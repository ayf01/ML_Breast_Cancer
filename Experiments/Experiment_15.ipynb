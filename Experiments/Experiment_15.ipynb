{
 "cells": [
  {
   "cell_type": "markdown",
   "metadata": {
    "id": "uf8zksoawaHq"
   },
   "source": [
    "# ML: Breast Cancer"
   ]
  },
  {
   "cell_type": "markdown",
   "metadata": {},
   "source": [
    "## Part 0: Pre-requisites "
   ]
  },
  {
   "cell_type": "markdown",
   "metadata": {},
   "source": [
    "### Imports"
   ]
  },
  {
   "cell_type": "code",
   "execution_count": 62,
   "metadata": {},
   "outputs": [],
   "source": [
    "import numpy as np\n",
    "import pandas as pd\n",
    "import sklearn\n",
    "import pickle\n",
    "import matplotlib.pyplot as plt\n",
    "from sklearn.model_selection import train_test_split\n",
    "from sklearn.model_selection import learning_curve\n",
    "from sklearn.model_selection import GridSearchCV\n",
    "from sklearn.decomposition import PCA\n",
    "from sklearn.linear_model import LogisticRegression\n",
    "from sklearn.preprocessing import LabelEncoder, StandardScaler\n",
    "from sklearn.metrics import accuracy_score\n",
    "from sklearn.ensemble import RandomForestClassifier\n",
    "from sklearn.svm import SVC\n",
    "from sklearn.ensemble import GradientBoostingClassifier\n",
    "from sklearn.pipeline import Pipeline\n",
    "from sklearn.preprocessing import FunctionTransformer\n",
    "from sklearn.model_selection import RandomizedSearchCV\n",
    "from sklearn.neural_network import MLPClassifier\n",
    "import xgboost as xgb\n",
    "from xgboost import XGBClassifier\n",
    "from xgboost import cv"
   ]
  },
  {
   "cell_type": "markdown",
   "metadata": {},
   "source": [
    "### Function to plot the learning curve "
   ]
  },
  {
   "cell_type": "code",
   "execution_count": 63,
   "metadata": {},
   "outputs": [],
   "source": [
    "def plot_learning_curves(model, x_train, y_train, x_val, y_val):\n",
    "    train_sizes, train_scores, val_scores = learning_curve(model, x_train, y_train, cv=5, scoring='accuracy', train_sizes=np.linspace(0.1, 1.0, 10))\n",
    "\n",
    "    train_scores_mean = np.mean(train_scores, axis=1)\n",
    "    train_scores_std = np.std(train_scores, axis=1)\n",
    "    val_scores_mean = np.mean(val_scores, axis=1)\n",
    "    val_scores_std = np.std(val_scores, axis=1)\n",
    "\n",
    "    plt.figure(figsize=(10, 6))\n",
    "    plt.title(\"Learning Curves\")\n",
    "    plt.xlabel(\"Training Examples\")\n",
    "    plt.ylabel(\"Score\")\n",
    "    plt.grid()\n",
    "\n",
    "    plt.fill_between(train_sizes, train_scores_mean - train_scores_std, train_scores_mean + train_scores_std, alpha=0.1, color=\"r\")\n",
    "    plt.fill_between(train_sizes, val_scores_mean - val_scores_std, val_scores_mean + val_scores_std, alpha=0.1, color=\"g\")\n",
    "\n",
    "    plt.plot(train_sizes, train_scores_mean, 'o-', color=\"r\", label=\"Training score\")\n",
    "    plt.plot(train_sizes, val_scores_mean, 'o-', color=\"g\", label=\"Cross-validation score\")\n",
    "\n",
    "    plt.legend(loc=\"best\")\n",
    "    plt.show()"
   ]
  },
  {
   "cell_type": "markdown",
   "metadata": {},
   "source": [
    "### Function to split the data "
   ]
  },
  {
   "cell_type": "code",
   "execution_count": 64,
   "metadata": {},
   "outputs": [],
   "source": [
    "def train_val_test_split(x, y):\n",
    "    # Splitting into training (80%) and temporary set (20%)\n",
    "    x_train, x_temp, y_train, y_temp = train_test_split(x, y, test_size=0.2, shuffle=True, random_state=3)\n",
    "    # Splitting the temporary set into validation (50%) and test (50%)\n",
    "    x_val, x_test, y_val, y_test = train_test_split(x_temp, y_temp, test_size=0.5, shuffle=True, random_state=3)\n",
    "    return x_train, y_train, x_val, y_val, x_test, y_test"
   ]
  },
  {
   "cell_type": "code",
   "execution_count": 65,
   "metadata": {},
   "outputs": [],
   "source": [
    "# Used locally \n",
    "path = \"D:\\\\Desktop\\\\ML\\\\Project\\\\ML_Breast_Cancer\\\\Sumaya\\\\Models\\\\\"\n",
    "\n",
    "# Used to load and save models for later use\n",
    "\n",
    "def saveModel(fileName, model):\n",
    "  with open(path + fileName, 'wb') as f:\n",
    "      pickle.dump(model, f)\n",
    "\n",
    "def getModel(fileName):\n",
    "  with open(path + fileName, 'rb') as f:\n",
    "      loaded_model = pickle.load(f)\n",
    "  return loaded_model"
   ]
  },
  {
   "cell_type": "code",
   "execution_count": 66,
   "metadata": {},
   "outputs": [],
   "source": [
    "results = [] # Array used to store tuples of (model, accuracy_score)"
   ]
  },
  {
   "cell_type": "markdown",
   "metadata": {
    "id": "oxFKBF_4xByj"
   },
   "source": [
    "## Part 1: Data \n"
   ]
  },
  {
   "cell_type": "markdown",
   "metadata": {
    "id": "E7PmButs0TOj"
   },
   "source": [
    "### Load the data "
   ]
  },
  {
   "cell_type": "code",
   "execution_count": 67,
   "metadata": {
    "id": "tg2D2bbw0c5c"
   },
   "outputs": [
    {
     "name": "stderr",
     "output_type": "stream",
     "text": [
      "C:\\Users\\Sumaya\\AppData\\Local\\Temp\\ipykernel_11488\\3240169054.py:1: DtypeWarning: Columns (662,664,676,677,683,685,686,687) have mixed types. Specify dtype option on import or set low_memory=False.\n",
      "  data = pd.read_csv(\"data.csv\", encoding=\"utf-8\")\n"
     ]
    },
    {
     "data": {
      "text/html": [
       "<div>\n",
       "<style scoped>\n",
       "    .dataframe tbody tr th:only-of-type {\n",
       "        vertical-align: middle;\n",
       "    }\n",
       "\n",
       "    .dataframe tbody tr th {\n",
       "        vertical-align: top;\n",
       "    }\n",
       "\n",
       "    .dataframe thead th {\n",
       "        text-align: right;\n",
       "    }\n",
       "</style>\n",
       "<table border=\"1\" class=\"dataframe\">\n",
       "  <thead>\n",
       "    <tr style=\"text-align: right;\">\n",
       "      <th></th>\n",
       "      <th>cancer_type</th>\n",
       "      <th>patient_id</th>\n",
       "      <th>age_at_diagnosis</th>\n",
       "      <th>cellularity</th>\n",
       "      <th>chemotherapy</th>\n",
       "      <th>pam50_+_claudin-low_subtype</th>\n",
       "      <th>cohort</th>\n",
       "      <th>er_status_measured_by_ihc</th>\n",
       "      <th>er_status</th>\n",
       "      <th>neoplasm_histologic_grade</th>\n",
       "      <th>...</th>\n",
       "      <th>mtap_mut</th>\n",
       "      <th>ppp2cb_mut</th>\n",
       "      <th>smarcd1_mut</th>\n",
       "      <th>nras_mut</th>\n",
       "      <th>ndfip1_mut</th>\n",
       "      <th>hras_mut</th>\n",
       "      <th>prps2_mut</th>\n",
       "      <th>smarcb1_mut</th>\n",
       "      <th>stmn2_mut</th>\n",
       "      <th>siah1_mut</th>\n",
       "    </tr>\n",
       "  </thead>\n",
       "  <tbody>\n",
       "    <tr>\n",
       "      <th>0</th>\n",
       "      <td>Breast Invasive Ductal Carcinoma</td>\n",
       "      <td>474</td>\n",
       "      <td>54.29</td>\n",
       "      <td>High</td>\n",
       "      <td>1</td>\n",
       "      <td>LumB</td>\n",
       "      <td>1</td>\n",
       "      <td>Positve</td>\n",
       "      <td>Positive</td>\n",
       "      <td>3.0</td>\n",
       "      <td>...</td>\n",
       "      <td>0</td>\n",
       "      <td>0</td>\n",
       "      <td>0</td>\n",
       "      <td>0</td>\n",
       "      <td>0</td>\n",
       "      <td>0</td>\n",
       "      <td>0</td>\n",
       "      <td>0</td>\n",
       "      <td>0</td>\n",
       "      <td>0</td>\n",
       "    </tr>\n",
       "    <tr>\n",
       "      <th>1</th>\n",
       "      <td>Breast Invasive Ductal Carcinoma</td>\n",
       "      <td>7029</td>\n",
       "      <td>43.45</td>\n",
       "      <td>Moderate</td>\n",
       "      <td>0</td>\n",
       "      <td>LumA</td>\n",
       "      <td>4</td>\n",
       "      <td>Positve</td>\n",
       "      <td>Positive</td>\n",
       "      <td>1.0</td>\n",
       "      <td>...</td>\n",
       "      <td>0</td>\n",
       "      <td>0</td>\n",
       "      <td>0</td>\n",
       "      <td>0</td>\n",
       "      <td>0</td>\n",
       "      <td>0</td>\n",
       "      <td>0</td>\n",
       "      <td>0</td>\n",
       "      <td>0</td>\n",
       "      <td>0</td>\n",
       "    </tr>\n",
       "    <tr>\n",
       "      <th>2</th>\n",
       "      <td>Breast Invasive Ductal Carcinoma</td>\n",
       "      <td>5215</td>\n",
       "      <td>74.11</td>\n",
       "      <td>High</td>\n",
       "      <td>0</td>\n",
       "      <td>LumB</td>\n",
       "      <td>3</td>\n",
       "      <td>Positve</td>\n",
       "      <td>Positive</td>\n",
       "      <td>3.0</td>\n",
       "      <td>...</td>\n",
       "      <td>0</td>\n",
       "      <td>0</td>\n",
       "      <td>0</td>\n",
       "      <td>0</td>\n",
       "      <td>0</td>\n",
       "      <td>0</td>\n",
       "      <td>0</td>\n",
       "      <td>0</td>\n",
       "      <td>0</td>\n",
       "      <td>0</td>\n",
       "    </tr>\n",
       "    <tr>\n",
       "      <th>3</th>\n",
       "      <td>Breast Invasive Ductal Carcinoma</td>\n",
       "      <td>5412</td>\n",
       "      <td>51.87</td>\n",
       "      <td>High</td>\n",
       "      <td>0</td>\n",
       "      <td>LumA</td>\n",
       "      <td>3</td>\n",
       "      <td>Positve</td>\n",
       "      <td>Positive</td>\n",
       "      <td>2.0</td>\n",
       "      <td>...</td>\n",
       "      <td>0</td>\n",
       "      <td>0</td>\n",
       "      <td>0</td>\n",
       "      <td>0</td>\n",
       "      <td>0</td>\n",
       "      <td>0</td>\n",
       "      <td>0</td>\n",
       "      <td>0</td>\n",
       "      <td>0</td>\n",
       "      <td>0</td>\n",
       "    </tr>\n",
       "    <tr>\n",
       "      <th>4</th>\n",
       "      <td>Breast Invasive Ductal Carcinoma</td>\n",
       "      <td>465</td>\n",
       "      <td>87.18</td>\n",
       "      <td>Moderate</td>\n",
       "      <td>0</td>\n",
       "      <td>LumB</td>\n",
       "      <td>1</td>\n",
       "      <td>Positve</td>\n",
       "      <td>Positive</td>\n",
       "      <td>3.0</td>\n",
       "      <td>...</td>\n",
       "      <td>0</td>\n",
       "      <td>0</td>\n",
       "      <td>0</td>\n",
       "      <td>0</td>\n",
       "      <td>0</td>\n",
       "      <td>0</td>\n",
       "      <td>0</td>\n",
       "      <td>0</td>\n",
       "      <td>0</td>\n",
       "      <td>0</td>\n",
       "    </tr>\n",
       "  </tbody>\n",
       "</table>\n",
       "<p>5 rows × 688 columns</p>\n",
       "</div>"
      ],
      "text/plain": [
       "                        cancer_type  patient_id  age_at_diagnosis cellularity  \\\n",
       "0  Breast Invasive Ductal Carcinoma         474             54.29        High   \n",
       "1  Breast Invasive Ductal Carcinoma        7029             43.45    Moderate   \n",
       "2  Breast Invasive Ductal Carcinoma        5215             74.11        High   \n",
       "3  Breast Invasive Ductal Carcinoma        5412             51.87        High   \n",
       "4  Breast Invasive Ductal Carcinoma         465             87.18    Moderate   \n",
       "\n",
       "   chemotherapy pam50_+_claudin-low_subtype  cohort er_status_measured_by_ihc  \\\n",
       "0             1                        LumB       1                   Positve   \n",
       "1             0                        LumA       4                   Positve   \n",
       "2             0                        LumB       3                   Positve   \n",
       "3             0                        LumA       3                   Positve   \n",
       "4             0                        LumB       1                   Positve   \n",
       "\n",
       "  er_status  neoplasm_histologic_grade  ... mtap_mut ppp2cb_mut  smarcd1_mut  \\\n",
       "0  Positive                        3.0  ...        0          0            0   \n",
       "1  Positive                        1.0  ...        0          0            0   \n",
       "2  Positive                        3.0  ...        0          0            0   \n",
       "3  Positive                        2.0  ...        0          0            0   \n",
       "4  Positive                        3.0  ...        0          0            0   \n",
       "\n",
       "  nras_mut ndfip1_mut  hras_mut  prps2_mut  smarcb1_mut  stmn2_mut  siah1_mut  \n",
       "0        0          0         0          0            0          0          0  \n",
       "1        0          0         0          0            0          0          0  \n",
       "2        0          0         0          0            0          0          0  \n",
       "3        0          0         0          0            0          0          0  \n",
       "4        0          0         0          0            0          0          0  \n",
       "\n",
       "[5 rows x 688 columns]"
      ]
     },
     "execution_count": 67,
     "metadata": {},
     "output_type": "execute_result"
    }
   ],
   "source": [
    "data = pd.read_csv(\"data.csv\", encoding=\"utf-8\")\n",
    "data.head()"
   ]
  },
  {
   "cell_type": "markdown",
   "metadata": {
    "id": "mTToaZ9WWXWk"
   },
   "source": [
    "### Clean the data"
   ]
  },
  {
   "cell_type": "markdown",
   "metadata": {},
   "source": [
    "#### Remove missing and duplicate values from dataset"
   ]
  },
  {
   "cell_type": "code",
   "execution_count": 68,
   "metadata": {
    "id": "2KK0kzUJW6GL"
   },
   "outputs": [],
   "source": [
    "# Check and remove missing values from the dataset\n",
    "data.isna().sum()\n",
    "data.dropna(axis=0, inplace=True)\n",
    "data.reset_index(inplace=True)"
   ]
  },
  {
   "cell_type": "code",
   "execution_count": 69,
   "metadata": {
    "id": "cxzweFphXBE5"
   },
   "outputs": [],
   "source": [
    "# Check and remove duplicate values from the dataset\n",
    "data.duplicated().sum()\n",
    "data.drop_duplicates(inplace=True)"
   ]
  },
  {
   "cell_type": "markdown",
   "metadata": {
    "id": "IeOgdKiqWB8E"
   },
   "source": [
    "#### Split the data into train, validation, and test sets "
   ]
  },
  {
   "cell_type": "markdown",
   "metadata": {},
   "source": [
    "Given the dataset size (around 1500) we can go with either approach (spliting the data manualy or applying cross-validation)"
   ]
  },
  {
   "cell_type": "markdown",
   "metadata": {
    "id": "UBbiZa8nWIPE"
   },
   "source": [
    "Split the dataset into train (80%), validation (10%) and test (10%) sets"
   ]
  },
  {
   "cell_type": "code",
   "execution_count": 70,
   "metadata": {
    "id": "2amSQIinWRym"
   },
   "outputs": [],
   "source": [
    "y = data[\"cancer_type\"]\n",
    "x = data.drop(columns=['cancer_type', 'patient_id'])\n",
    "\n",
    "# Encode the target variable\n",
    "label_encoder_y = LabelEncoder()\n",
    "y_encoded = label_encoder_y.fit_transform(y)\n",
    "\n",
    "# Identify and convert all categorical features in x to string type\n",
    "categorical_features = x.select_dtypes(include=['object', 'int64']).columns\n",
    "for col in categorical_features:\n",
    "    x[col] = x[col].astype(str)  # Convert all entries to strings\n",
    "    le = LabelEncoder()\n",
    "    x[col] = le.fit_transform(x[col])\n",
    "\n",
    "# Split the data\n",
    "x_train, x_temp, y_train, y_temp = train_test_split(x, y_encoded, test_size=0.2, random_state=42)\n",
    "x_val, x_test, y_val, y_test = train_test_split(x_temp, y_temp, test_size=0.5, random_state=42)\n"
   ]
  },
  {
   "cell_type": "markdown",
   "metadata": {},
   "source": [
    "## Part 2: Dimensionality Reduction"
   ]
  },
  {
   "cell_type": "code",
   "execution_count": 71,
   "metadata": {},
   "outputs": [],
   "source": [
    "# Standard scaling before PCA\n",
    "scaler = StandardScaler()\n",
    "x_train_scaled = scaler.fit_transform(x_train)\n",
    "x_val_scaled = scaler.transform(x_val)\n",
    "x_test_scaled = scaler.transform(x_test)\n",
    "\n",
    "# Dimensionality Reduction with PCA\n",
    "pca = PCA(n_components=0.95)  # Adjust components based on explained variance you wish to retain\n",
    "x_train_pca = pca.fit_transform(x_train_scaled)\n",
    "x_val_pca = pca.transform(x_val_scaled)\n",
    "x_test_pca = pca.transform(x_test_scaled)"
   ]
  },
  {
   "cell_type": "markdown",
   "metadata": {},
   "source": [
    "## Part 3: Feature Selection\n"
   ]
  },
  {
   "cell_type": "code",
   "execution_count": 72,
   "metadata": {},
   "outputs": [
    {
     "data": {
      "image/png": "[encoded data removed]",
      "text/plain": [
       "<Figure size 600x400 with 1 Axes>"
      ]
     },
     "metadata": {},
     "output_type": "display_data"
    }
   ],
   "source": [
    "# Initial model to evaluate feature importance\n",
    "initial_model = XGBClassifier(\n",
    "    max_depth=3,\n",
    "    learning_rate=0.1,\n",
    "    n_estimators=100,\n",
    "    objective='binary:logistic'\n",
    ")\n",
    "initial_model.fit(x_train_pca, y_train)\n",
    "\n",
    "# Get feature importance and visualize it\n",
    "importances = initial_model.feature_importances_\n",
    "plt.bar(range(len(importances)), importances)\n",
    "plt.show()\n",
    "\n",
    "# Select features based on importance threshold\n",
    "threshold = 0.01  # Set a threshold for feature importance\n",
    "selected_features = [i for i, importance in enumerate(importances) if importance > threshold]\n",
    "x_train_selected = x_train_pca[:, selected_features]\n",
    "x_val_selected = x_val_pca[:, selected_features]\n",
    "x_test_selected = x_test_pca[:, selected_features]"
   ]
  },
  {
   "cell_type": "markdown",
   "metadata": {},
   "source": [
    "## Part 4: Model training"
   ]
  },
  {
   "cell_type": "markdown",
   "metadata": {},
   "source": [
    "### XGBoost"
   ]
  },
  {
   "cell_type": "code",
   "execution_count": 73,
   "metadata": {},
   "outputs": [
    {
     "name": "stdout",
     "output_type": "stream",
     "text": [
      "Fitting 3 folds for each of 324 candidates, totalling 972 fits\n",
      "Best Hyperparameters: {'gamma': 0.5, 'learning_rate': 0.01, 'max_depth': 3, 'min_child_weight': 1, 'n_estimators': 100}\n",
      "Best Cross-Validation Score: 0.7811158798283261\n",
      "Validation Set Accuracy: 0.8275862068965517\n"
     ]
    }
   ],
   "source": [
    "# Grid Search with Selected Features\n",
    "grid_search = GridSearchCV(\n",
    "    estimator=XGBClassifier(),\n",
    "    param_grid={\n",
    "        'max_depth': [3, 4, 5],\n",
    "        'min_child_weight': [1, 5, 10],\n",
    "        'gamma': [0.5, 1, 1.5, 2],\n",
    "        'learning_rate': [0.01, 0.1, 0.2],\n",
    "        'n_estimators': [100, 200, 300]\n",
    "    },\n",
    "    cv=3,\n",
    "    scoring='accuracy',\n",
    "    verbose=1\n",
    ")\n",
    "\n",
    "# Perform grid search\n",
    "grid_search.fit(x_train_selected, y_train)\n",
    "\n",
    "# Best hyperparameters and scores\n",
    "best_params = grid_search.best_params_\n",
    "print(\"Best Hyperparameters:\", best_params)\n",
    "best_score = grid_search.best_score_\n",
    "print(\"Best Cross-Validation Score:\", best_score)\n",
    "\n",
    "# Train the best model on selected features\n",
    "best_model = grid_search.best_estimator_\n",
    "y_val_pred = best_model.predict(x_val_selected)\n",
    "val_score = accuracy_score(y_val, y_val_pred)\n",
    "print(\"Validation Set Accuracy:\", val_score)\n",
    "\n",
    "saveModel('xgb1.pkl', best_model)"
   ]
  }
 ],
 "metadata": {
  "colab": {
   "provenance": []
  },
  "kernelspec": {
   "display_name": "Python 3 (ipykernel)",
   "language": "python",
   "name": "python3"
  },
  "language_info": {
   "codemirror_mode": {
    "name": "ipython",
    "version": 3
   },
   "file_extension": ".py",
   "mimetype": "text/x-python",
   "name": "python",
   "nbconvert_exporter": "python",
   "pygments_lexer": "ipython3",
   "version": "3.11.5"
  }
 },
 "nbformat": 4,
 "nbformat_minor": 4
}
