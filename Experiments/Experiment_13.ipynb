{
 "cells": [
  {
   "cell_type": "markdown",
   "metadata": {
    "id": "uf8zksoawaHq"
   },
   "source": [
    "# ML: Breast Cancer"
   ]
  },
  {
   "cell_type": "markdown",
   "metadata": {},
   "source": [
    "## Strategy"
   ]
  },
  {
   "cell_type": "markdown",
   "metadata": {},
   "source": [
    "- Data split:\n",
    "    - Data is split into **train (90%)** and **test (10%)**\n",
    "    - Train data is used for cross-validation as well when performing hyperparameter tuning \n",
    "- Encoding:\n",
    "    - y data: **LabelEncoder**\n",
    "    - x data: \n",
    "        - manual encoding to genetic mutations features: 0: no mutation occured, 1: mutation occured\n",
    "        - using **label encoder** to the rest of categorical features\n",
    "- Null/empty values:\n",
    "    - Used **KNNImputer**:\n",
    "        - predicted the value of a missing data point by averaging the values of its k nearest neighbors based on Euclidean distance metric.\n",
    "        - number of neighbors is set to 2 \n",
    "- Addressing **Data imbalance**:\n",
    "    - Generated synthetic examples in the minority class using **SMOTE** oversampling algorithm\n",
    "- Feature selection:\n",
    "    - Used **RandomForestClassifier** to select the needed features \n",
    "    - Removed features from x_train data\n",
    "- Model training:\n",
    "    - Used **XGBClassifier** as it was stated in multiple papers for yielding the best results \n",
    "    - Used **f1_macro** for scoring \n",
    "    - Fit using **train** data\n",
    "- Testing:\n",
    "    - Pre-processing applied:\n",
    "        - Handle null/empty values similar to the handling of the train data\n",
    "        - Encode the test data \n",
    "        - Remove the features removed from **x_train** from **x_test** \n",
    "    - Generate predictions\n",
    "    - Display the following metrics:\n",
    "        - Accuracy \n",
    "        - Precision \n",
    "        - Recall \n",
    "        - F1 Score "
   ]
  },
  {
   "cell_type": "markdown",
   "metadata": {},
   "source": [
    "## Part 0: Pre-requisites "
   ]
  },
  {
   "cell_type": "markdown",
   "metadata": {},
   "source": [
    "### Imports"
   ]
  },
  {
   "cell_type": "code",
   "execution_count": 7,
   "metadata": {},
   "outputs": [],
   "source": [
    "import numpy as np\n",
    "import pandas as pd\n",
    "import category_encoders as ce\n",
    "from sklearn.feature_selection import RFE\n",
    "import sklearn\n",
    "import pickle\n",
    "import matplotlib.pyplot as plt\n",
    "from xgboost import XGBClassifier\n",
    "from sklearn.impute import KNNImputer\n",
    "from imblearn.over_sampling import SMOTE\n",
    "from sklearn.impute import SimpleImputer\n",
    "from collections import Counter\n",
    "from sklearn.model_selection import train_test_split\n",
    "from sklearn.model_selection import learning_curve\n",
    "from sklearn.model_selection import GridSearchCV\n",
    "from sklearn.decomposition import PCA\n",
    "from sklearn.linear_model import LogisticRegression\n",
    "from sklearn.preprocessing import LabelEncoder, OrdinalEncoder\n",
    "from sklearn.metrics import accuracy_score,precision_score,recall_score,f1_score\n",
    "from sklearn.ensemble import RandomForestClassifier\n",
    "from sklearn.svm import SVC\n",
    "from sklearn.ensemble import GradientBoostingClassifier\n",
    "from sklearn.pipeline import Pipeline\n",
    "from sklearn.preprocessing import FunctionTransformer\n",
    "from sklearn.model_selection import RandomizedSearchCV\n",
    "from sklearn.neural_network import MLPClassifier"
   ]
  },
  {
   "cell_type": "markdown",
   "metadata": {},
   "source": [
    "### Functions:"
   ]
  },
  {
   "cell_type": "code",
   "execution_count": 2,
   "metadata": {},
   "outputs": [],
   "source": [
    "'''\n",
    "    function to plot learning curve\n",
    "'''\n",
    "def plot_learning_curves(model, x_train, y_train):\n",
    "    train_sizes, train_scores, val_scores = learning_curve(model, x_train, y_train, cv=5, scoring='accuracy', train_sizes=np.linspace(0.1, 1.0, 10))\n",
    "\n",
    "    train_scores_mean = np.mean(train_scores, axis=1)\n",
    "    train_scores_std = np.std(train_scores, axis=1)\n",
    "    val_scores_mean = np.mean(val_scores, axis=1)\n",
    "    val_scores_std = np.std(val_scores, axis=1)\n",
    "\n",
    "    plt.figure(figsize=(10, 6))\n",
    "    plt.title(\"Learning Curves\")\n",
    "    plt.xlabel(\"Training Examples\")\n",
    "    plt.ylabel(\"Score\")\n",
    "    plt.grid()\n",
    "\n",
    "    plt.fill_between(train_sizes, train_scores_mean - train_scores_std, train_scores_mean + train_scores_std, alpha=0.1, color=\"r\")\n",
    "    plt.fill_between(train_sizes, val_scores_mean - val_scores_std, val_scores_mean + val_scores_std, alpha=0.1, color=\"g\")\n",
    "\n",
    "    plt.plot(train_sizes, train_scores_mean, 'o-', color=\"r\", label=\"Training score\")\n",
    "    plt.plot(train_sizes, val_scores_mean, 'o-', color=\"g\", label=\"Cross-validation score\")\n",
    "\n",
    "    plt.legend(loc=\"best\")\n",
    "    plt.show()\n",
    "#################################################################################################\n",
    "'''\n",
    "    functions to save model and retrieve model\n",
    "'''\n",
    "path = \"Models\\\\\"\n",
    "def saveModel(fileName, model):\n",
    "  with open(path + fileName, 'wb') as f:\n",
    "      pickle.dump(model, f)\n",
    "\n",
    "def getModel(fileName):\n",
    "  with open(path + fileName, 'rb') as f:\n",
    "      loaded_model = pickle.load(f)\n",
    "  return loaded_model\n",
    "\n",
    "results = [] # Array used to store tuples of (model, accuracy_score)\n",
    "#################################################################################################\n",
    "'''\n",
    "    function to split data\n",
    "'''\n",
    "def train_val_test_split(x, y):\n",
    "    # Splitting into training (80%) and temporary set (20%)\n",
    "    x_train, x_temp, y_train, y_temp = train_test_split(x, y, test_size=0.2, shuffle=True, random_state=3)\n",
    "    # Splitting the temporary set into validation (50%) and test (50%)\n",
    "    x_val, x_test, y_val, y_test = train_test_split(x_temp, y_temp, test_size=0.5, shuffle=True, random_state=3)\n",
    "    return x_train, y_train, x_val, y_val, x_test, y_test\n",
    "#################################################################################################\n",
    "'''\n",
    "    function to find the distribution of null values in the dataset\n",
    "'''\n",
    "# credit: https://www.kaggle.com/willkoehrsen/start-here-a-gentle-introduction. \n",
    "def missing_values_table(df):\n",
    "    # Total missing values\n",
    "    mis_val = df.isnull().sum()\n",
    "\n",
    "    # Percentage of missing values\n",
    "    mis_val_percent = 100 * df.isnull().sum() / len(df)\n",
    "\n",
    "    # Make a table with the results\n",
    "    mis_val_table = pd.concat([mis_val, mis_val_percent], axis=1)\n",
    "\n",
    "    # Rename the columns\n",
    "    mis_val_table_ren_columns = mis_val_table.rename(\n",
    "    columns = {0 : 'Missing Values', 1 : '% of Total Values'})\n",
    "\n",
    "    # Sort the table by percentage of missing descending\n",
    "    mis_val_table_ren_columns = mis_val_table_ren_columns[\n",
    "    mis_val_table_ren_columns.iloc[:,1] != 0].sort_values(\n",
    "    '% of Total Values', ascending=False).round(1)\n",
    "\n",
    "    # Print some summary information\n",
    "    print (\"Your selected dataframe has \" + str(df.shape[1]) + \" columns.\\n\"      \n",
    "    \"There are \" + str(mis_val_table_ren_columns.shape[0]) +\n",
    "        \" columns that have missing values.\")\n",
    "\n",
    "    # Return the dataframe with missing information\n",
    "    return mis_val_table_ren_columns"
   ]
  },
  {
   "cell_type": "markdown",
   "metadata": {
    "id": "oxFKBF_4xByj"
   },
   "source": [
    "## Part 1: Data "
   ]
  },
  {
   "cell_type": "markdown",
   "metadata": {
    "id": "E7PmButs0TOj"
   },
   "source": [
    "### Load the data "
   ]
  },
  {
   "cell_type": "code",
   "execution_count": null,
   "metadata": {
    "id": "tg2D2bbw0c5c"
   },
   "outputs": [],
   "source": [
    "data = pd.read_csv(\"data.csv\", encoding=\"utf-8\")\n",
    "data.head()"
   ]
  },
  {
   "cell_type": "code",
   "execution_count": 8,
   "metadata": {},
   "outputs": [
    {
     "name": "stdout",
     "output_type": "stream",
     "text": [
      "(1496, 688)\n",
      "1199\n",
      "114\n",
      "165\n",
      "18\n"
     ]
    }
   ],
   "source": [
    "print(data.shape)\n",
    "print(data[data['cancer_type'] == \"Breast Invasive Ductal Carcinoma\"].shape[0])\n",
    "print(data[data['cancer_type'] == \"Breast Invasive Lobular Carcinoma\"].shape[0])\n",
    "print(data[data['cancer_type'] == \"Breast Mixed Ductal and Lobular Carcinoma\"].shape[0])\n",
    "print(data[data['cancer_type'] == \"Breast Invasive Mixed Mucinous Carcinoma\"].shape[0])"
   ]
  },
  {
   "cell_type": "markdown",
   "metadata": {},
   "source": [
    "↪ Our dataset is imbalanced\n",
    "- we cannot undersample due to the fact that our dataset is mall\n",
    "- random oversampling may lead to overfitting\n",
    "- there are other techniques for oversamplign (**SMOTE**)\n",
    "- setting class weights in an inversely prop way to its freq.\n",
    "- **boosting** and **bagging** models, **random forest** model are good options.\n",
    "- use **f1-score** or any metric that is sensitive to data imbalance.  "
   ]
  },
  {
   "cell_type": "markdown",
   "metadata": {},
   "source": [
    "##### Split into features (x) and label (y)"
   ]
  },
  {
   "cell_type": "code",
   "execution_count": 4,
   "metadata": {},
   "outputs": [],
   "source": [
    "# splitting data and dropping unnecessary features\n",
    "y = data[\"cancer_type\"]\n",
    "x = data.drop(columns = [\"cancer_type\",\"patient_id\"])\n",
    "x_train, x_test, y_train, y_test = train_test_split(x, y, test_size=0.1, shuffle=True, random_state=3)"
   ]
  },
  {
   "cell_type": "code",
   "execution_count": 5,
   "metadata": {},
   "outputs": [],
   "source": [
    "def data_encoding(x, y):\n",
    "    ordinal_features = ['cellularity','3-gene_classifier_subtype','death_from_cancer','pam50_+_claudin-low_subtype','her2_status_measured_by_snp6']# should add the genetic mutation cols too\n",
    "    nominal_features = ['er_status_measured_by_ihc','er_status','her2_status','inferred_menopausal_state','primary_tumor_laterality','pr_status']\n",
    "\n",
    "    x[ordinal_features] = x[ordinal_features].apply(LabelEncoder().fit_transform)\n",
    "    x[nominal_features] = x[nominal_features].apply(LabelEncoder().fit_transform)\n",
    "\n",
    "    genomic_col = x.columns[513:] # genetic mutations\n",
    "    for col in genomic_col:\n",
    "        x.loc[x[col] != '0', col] = 1\n",
    "        x.loc[x[col] == '0', col] = 0\n",
    "        x[col] = x[col].astype(int)\n",
    "    \n",
    "    # encoding labels\n",
    "    label_encoder = LabelEncoder()\n",
    "    y = label_encoder.fit_transform(y)\n",
    "    return x,y\n",
    "\n",
    "def data_encoding2(x,y):\n",
    "    def get_categorical_columns(df):\n",
    "        return list(df.select_dtypes(include=['object', 'category']).columns)\n",
    "    def get_numerical_columns(df):\n",
    "        return list(df.select_dtypes(include=['number']).columns)\n",
    "\n",
    "    categorical_columns = get_categorical_columns(x)\n",
    "    numerical_columns = get_numerical_columns(x)\n",
    "\n",
    "    # Clean categorical columns to remove duplicates and unexpected formats\n",
    "    def clean_categorical_columns(df, cat_columns):\n",
    "        cleaned_df = df.copy()\n",
    "        for col in cat_columns:\n",
    "            cleaned_df[col] = cleaned_df[col].apply(lambda x: str(x).strip())  # Strip leading/trailing spaces\n",
    "            cleaned_df[col] = cleaned_df[col].apply(lambda x: ' '.join(sorted(set(x.split()))))  # Remove duplicate words\n",
    "        return cleaned_df\n",
    "\n",
    "    def clean_target_variable(y):\n",
    "        cleaned_y = y.copy()\n",
    "        cleaned_y = cleaned_y.apply(lambda x: str(x).strip())  # Strip leading/trailing spaces\n",
    "        cleaned_y = cleaned_y.apply(lambda x: ' '.join(sorted(set(x.split()))))  # Remove duplicate words\n",
    "        return cleaned_y\n",
    "\n",
    "    x_cleaned = clean_categorical_columns(x, categorical_columns)\n",
    "    y_cleaned = clean_target_variable(y)\n",
    "\n",
    "    # Use LabelEncoder for encoding target variable\n",
    "    label_encoder_y = LabelEncoder()\n",
    "    y_encoded = label_encoder_y.fit_transform(y_cleaned)\n",
    "\n",
    "    encoder = ce.TargetEncoder(cols=categorical_columns)\n",
    "    x_encoded = encoder.fit_transform(x_cleaned, y_encoded)\n",
    "\n",
    "    return x_encoded, y_encoded\n",
    "\n",
    "def impute_missing_values_KNN(x):\n",
    "    imputer = KNNImputer(n_neighbors=2)\n",
    "    x.iloc[:,:] = imputer.fit_transform(x)\n",
    "    return x\n",
    "\n",
    "def feature_selection(x, y):\n",
    "    # Create a Random Forest classifier\n",
    "    rf_classifier = RandomForestClassifier(n_estimators=100, random_state=42)\n",
    "    rfe = RFE(estimator=rf_classifier, n_features_to_select=None)\n",
    "\n",
    "    # Fit the classifier to the data\n",
    "    rfe.fit(x, y)\n",
    "\n",
    "    selected_features_indices = np.where(rfe.support_)[0]\n",
    "    return selected_features_indices\n",
    "\n",
    "def data_upsampling(x, y):\n",
    "    # summarize distribution before upsampling\n",
    "    counter = Counter(y)\n",
    "    for k,v in counter.items():\n",
    "        per = v / len(y) * 100\n",
    "        print('Class=%d, n=%d (%.3f%%)' % (k, v, per))\n",
    "    # plot the distribution\n",
    "    plt.bar(counter.keys(), counter.values(    ))\n",
    "    plt.show()\n",
    "\n",
    "    oversample = SMOTE()\n",
    "    x, y = oversample.fit_resample(x, y)\n",
    "    # summarize distribution after upsampling\n",
    "    counter = Counter(y)\n",
    "    for k,v in counter.items():\n",
    "        per = v / len(y) * 100\n",
    "        print('Class=%d, n=%d (%.3f%%)' % (k, v, per))\n",
    "    # plot the distribution\n",
    "    plt.bar(counter.keys(), counter.values())\n",
    "    plt.show()\n",
    "    return x,y\n",
    "\n",
    "def preprocess_data(x,y):\n",
    "    x,y = data_encoding(x, y)\n",
    "    x = impute_missing_values_KNN(x)\n",
    "    x,y = data_upsampling(x, y)\n",
    "    selected_features_indices = feature_selection(x, y)\n",
    "    x = x.iloc[:, selected_features_indices]\n",
    "    return x,y,selected_features_indices\n"
   ]
  },
  {
   "cell_type": "markdown",
   "metadata": {},
   "source": [
    "## Part 3: Models"
   ]
  },
  {
   "cell_type": "markdown",
   "metadata": {},
   "source": [
    "### XGBOOST:"
   ]
  },
  {
   "cell_type": "code",
   "execution_count": 8,
   "metadata": {},
   "outputs": [
    {
     "name": "stdout",
     "output_type": "stream",
     "text": [
      "Class=0, n=1081 (80.312%)\n",
      "Class=1, n=100 (7.429%)\n",
      "Class=3, n=149 (11.070%)\n",
      "Class=2, n=16 (1.189%)\n"
     ]
    },
    {
     "data": {
      "image/png": "[encoded data removed]",
      "text/plain": [
       "<Figure size 640x480 with 1 Axes>"
      ]
     },
     "metadata": {},
     "output_type": "display_data"
    },
    {
     "name": "stdout",
     "output_type": "stream",
     "text": [
      "Class=0, n=1081 (25.000%)\n",
      "Class=1, n=1081 (25.000%)\n",
      "Class=3, n=1081 (25.000%)\n",
      "Class=2, n=1081 (25.000%)\n"
     ]
    },
    {
     "data": {
      "image/png": "[encoded data removed]",
      "text/plain": [
       "<Figure size 640x480 with 1 Axes>"
      ]
     },
     "metadata": {},
     "output_type": "display_data"
    },
    {
     "name": "stdout",
     "output_type": "stream",
     "text": [
      "     age_at_diagnosis  chemotherapy  neoplasm_histologic_grade  \\\n",
      "321             68.41             0                        NaN   \n",
      "813             41.29             1                        3.0   \n",
      "637             60.58             1                        3.0   \n",
      "263             36.25             0                        2.0   \n",
      "548             49.35             1                        2.0   \n",
      "\n",
      "     mutation_count  nottingham_prognostic_index  overall_survival_months  \\\n",
      "321             8.0                       1.0760               199.033333   \n",
      "813            15.0                       6.1100               165.433333   \n",
      "637             5.0                       5.0800                85.366667   \n",
      "263             7.0                       3.0460               269.633333   \n",
      "548             7.0                       3.0046               146.833333   \n",
      "\n",
      "    3-gene_classifier_subtype  tumor_size   brca1   brca2  ...  srd5a1  \\\n",
      "321      ER+/HER2- Low Prolif        38.0 -0.0283 -0.2112  ... -1.1570   \n",
      "813                 ER-/HER2-        55.0 -0.4585  1.0126  ...  0.0822   \n",
      "637                       NaN        40.0  0.7149  2.3237  ...  2.0537   \n",
      "263     ER+/HER2- High Prolif        23.0  1.6203  0.4218  ... -0.4024   \n",
      "548                     HER2+         2.3 -0.2489  0.5130  ...  3.2779   \n",
      "\n",
      "     srd5a2  srd5a3     st7    star    tnk2   tulp4  ugt2b15  ugt2b17  ugt2b7  \n",
      "321  0.0741 -0.1159  2.1447 -0.3783  0.4243  1.3532  -0.4482  -0.4182  2.0798  \n",
      "813 -0.3841 -0.8886 -0.4274  0.5903  0.4222  0.0320  -0.4499   0.7484 -0.7613  \n",
      "637 -0.3876  0.2819 -0.4818  3.6034 -0.7978  0.8256  -0.3989   0.0059 -0.8522  \n",
      "263  0.1481 -1.0096  0.1215 -0.7123 -1.2924 -1.0169   2.2528  -1.0464  2.1297  \n",
      "548 -0.5110 -1.4737 -0.3598 -0.2830 -0.6823 -0.1366  -0.5233   0.0832  1.6331  \n",
      "\n",
      "[5 rows x 343 columns]\n"
     ]
    },
    {
     "ename": "KeyError",
     "evalue": "\"['cellularity', 'death_from_cancer', 'pam50_+_claudin-low_subtype', 'her2_status_measured_by_snp6'] not in index\"",
     "output_type": "error",
     "traceback": [
      "\u001b[1;31m---------------------------------------------------------------------------\u001b[0m",
      "\u001b[1;31mKeyError\u001b[0m                                  Traceback (most recent call last)",
      "Cell \u001b[1;32mIn[8], line 5\u001b[0m\n\u001b[0;32m      3\u001b[0m x_test \u001b[38;5;241m=\u001b[39m x_test\u001b[38;5;241m.\u001b[39miloc[:, selected_features_indices]\n\u001b[0;32m      4\u001b[0m \u001b[38;5;28mprint\u001b[39m(x_test\u001b[38;5;241m.\u001b[39mhead())\n\u001b[1;32m----> 5\u001b[0m x_test_encoded,y_test_encoded \u001b[38;5;241m=\u001b[39m \u001b[43mdata_encoding\u001b[49m\u001b[43m(\u001b[49m\u001b[43mx_test\u001b[49m\u001b[43m,\u001b[49m\u001b[43my_test\u001b[49m\u001b[43m)\u001b[49m\n\u001b[0;32m      6\u001b[0m x_test_encoded \u001b[38;5;241m=\u001b[39m impute_missing_values_KNN(x_test_encoded)\n",
      "Cell \u001b[1;32mIn[5], line 5\u001b[0m, in \u001b[0;36mdata_encoding\u001b[1;34m(x, y)\u001b[0m\n\u001b[0;32m      2\u001b[0m ordinal_features \u001b[38;5;241m=\u001b[39m [\u001b[38;5;124m'\u001b[39m\u001b[38;5;124mcellularity\u001b[39m\u001b[38;5;124m'\u001b[39m,\u001b[38;5;124m'\u001b[39m\u001b[38;5;124m3-gene_classifier_subtype\u001b[39m\u001b[38;5;124m'\u001b[39m,\u001b[38;5;124m'\u001b[39m\u001b[38;5;124mdeath_from_cancer\u001b[39m\u001b[38;5;124m'\u001b[39m,\u001b[38;5;124m'\u001b[39m\u001b[38;5;124mpam50_+_claudin-low_subtype\u001b[39m\u001b[38;5;124m'\u001b[39m,\u001b[38;5;124m'\u001b[39m\u001b[38;5;124mher2_status_measured_by_snp6\u001b[39m\u001b[38;5;124m'\u001b[39m]\u001b[38;5;66;03m# should add the genetic mutation cols too\u001b[39;00m\n\u001b[0;32m      3\u001b[0m nominal_features \u001b[38;5;241m=\u001b[39m [\u001b[38;5;124m'\u001b[39m\u001b[38;5;124mer_status_measured_by_ihc\u001b[39m\u001b[38;5;124m'\u001b[39m,\u001b[38;5;124m'\u001b[39m\u001b[38;5;124mer_status\u001b[39m\u001b[38;5;124m'\u001b[39m,\u001b[38;5;124m'\u001b[39m\u001b[38;5;124mher2_status\u001b[39m\u001b[38;5;124m'\u001b[39m,\u001b[38;5;124m'\u001b[39m\u001b[38;5;124minferred_menopausal_state\u001b[39m\u001b[38;5;124m'\u001b[39m,\u001b[38;5;124m'\u001b[39m\u001b[38;5;124mprimary_tumor_laterality\u001b[39m\u001b[38;5;124m'\u001b[39m,\u001b[38;5;124m'\u001b[39m\u001b[38;5;124mpr_status\u001b[39m\u001b[38;5;124m'\u001b[39m]\n\u001b[1;32m----> 5\u001b[0m x[ordinal_features] \u001b[38;5;241m=\u001b[39m \u001b[43mx\u001b[49m\u001b[43m[\u001b[49m\u001b[43mordinal_features\u001b[49m\u001b[43m]\u001b[49m\u001b[38;5;241m.\u001b[39mapply(LabelEncoder()\u001b[38;5;241m.\u001b[39mfit_transform)\n\u001b[0;32m      6\u001b[0m x[nominal_features] \u001b[38;5;241m=\u001b[39m x[nominal_features]\u001b[38;5;241m.\u001b[39mapply(LabelEncoder()\u001b[38;5;241m.\u001b[39mfit_transform)\n\u001b[0;32m      8\u001b[0m genomic_col \u001b[38;5;241m=\u001b[39m x\u001b[38;5;241m.\u001b[39mcolumns[\u001b[38;5;241m513\u001b[39m:] \u001b[38;5;66;03m# genetic mutations\u001b[39;00m\n",
      "File \u001b[1;32mc:\\Users\\Hp\\AppData\\Local\\Programs\\Python\\Python39\\lib\\site-packages\\pandas\\core\\frame.py:4108\u001b[0m, in \u001b[0;36mDataFrame.__getitem__\u001b[1;34m(self, key)\u001b[0m\n\u001b[0;32m   4106\u001b[0m     \u001b[38;5;28;01mif\u001b[39;00m is_iterator(key):\n\u001b[0;32m   4107\u001b[0m         key \u001b[38;5;241m=\u001b[39m \u001b[38;5;28mlist\u001b[39m(key)\n\u001b[1;32m-> 4108\u001b[0m     indexer \u001b[38;5;241m=\u001b[39m \u001b[38;5;28;43mself\u001b[39;49m\u001b[38;5;241;43m.\u001b[39;49m\u001b[43mcolumns\u001b[49m\u001b[38;5;241;43m.\u001b[39;49m\u001b[43m_get_indexer_strict\u001b[49m\u001b[43m(\u001b[49m\u001b[43mkey\u001b[49m\u001b[43m,\u001b[49m\u001b[43m \u001b[49m\u001b[38;5;124;43m\"\u001b[39;49m\u001b[38;5;124;43mcolumns\u001b[39;49m\u001b[38;5;124;43m\"\u001b[39;49m\u001b[43m)\u001b[49m[\u001b[38;5;241m1\u001b[39m]\n\u001b[0;32m   4110\u001b[0m \u001b[38;5;66;03m# take() does not accept boolean indexers\u001b[39;00m\n\u001b[0;32m   4111\u001b[0m \u001b[38;5;28;01mif\u001b[39;00m \u001b[38;5;28mgetattr\u001b[39m(indexer, \u001b[38;5;124m\"\u001b[39m\u001b[38;5;124mdtype\u001b[39m\u001b[38;5;124m\"\u001b[39m, \u001b[38;5;28;01mNone\u001b[39;00m) \u001b[38;5;241m==\u001b[39m \u001b[38;5;28mbool\u001b[39m:\n",
      "File \u001b[1;32mc:\\Users\\Hp\\AppData\\Local\\Programs\\Python\\Python39\\lib\\site-packages\\pandas\\core\\indexes\\base.py:6200\u001b[0m, in \u001b[0;36mIndex._get_indexer_strict\u001b[1;34m(self, key, axis_name)\u001b[0m\n\u001b[0;32m   6197\u001b[0m \u001b[38;5;28;01melse\u001b[39;00m:\n\u001b[0;32m   6198\u001b[0m     keyarr, indexer, new_indexer \u001b[38;5;241m=\u001b[39m \u001b[38;5;28mself\u001b[39m\u001b[38;5;241m.\u001b[39m_reindex_non_unique(keyarr)\n\u001b[1;32m-> 6200\u001b[0m \u001b[38;5;28;43mself\u001b[39;49m\u001b[38;5;241;43m.\u001b[39;49m\u001b[43m_raise_if_missing\u001b[49m\u001b[43m(\u001b[49m\u001b[43mkeyarr\u001b[49m\u001b[43m,\u001b[49m\u001b[43m \u001b[49m\u001b[43mindexer\u001b[49m\u001b[43m,\u001b[49m\u001b[43m \u001b[49m\u001b[43maxis_name\u001b[49m\u001b[43m)\u001b[49m\n\u001b[0;32m   6202\u001b[0m keyarr \u001b[38;5;241m=\u001b[39m \u001b[38;5;28mself\u001b[39m\u001b[38;5;241m.\u001b[39mtake(indexer)\n\u001b[0;32m   6203\u001b[0m \u001b[38;5;28;01mif\u001b[39;00m \u001b[38;5;28misinstance\u001b[39m(key, Index):\n\u001b[0;32m   6204\u001b[0m     \u001b[38;5;66;03m# GH 42790 - Preserve name from an Index\u001b[39;00m\n",
      "File \u001b[1;32mc:\\Users\\Hp\\AppData\\Local\\Programs\\Python\\Python39\\lib\\site-packages\\pandas\\core\\indexes\\base.py:6252\u001b[0m, in \u001b[0;36mIndex._raise_if_missing\u001b[1;34m(self, key, indexer, axis_name)\u001b[0m\n\u001b[0;32m   6249\u001b[0m     \u001b[38;5;28;01mraise\u001b[39;00m \u001b[38;5;167;01mKeyError\u001b[39;00m(\u001b[38;5;124mf\u001b[39m\u001b[38;5;124m\"\u001b[39m\u001b[38;5;124mNone of [\u001b[39m\u001b[38;5;132;01m{\u001b[39;00mkey\u001b[38;5;132;01m}\u001b[39;00m\u001b[38;5;124m] are in the [\u001b[39m\u001b[38;5;132;01m{\u001b[39;00maxis_name\u001b[38;5;132;01m}\u001b[39;00m\u001b[38;5;124m]\u001b[39m\u001b[38;5;124m\"\u001b[39m)\n\u001b[0;32m   6251\u001b[0m not_found \u001b[38;5;241m=\u001b[39m \u001b[38;5;28mlist\u001b[39m(ensure_index(key)[missing_mask\u001b[38;5;241m.\u001b[39mnonzero()[\u001b[38;5;241m0\u001b[39m]]\u001b[38;5;241m.\u001b[39munique())\n\u001b[1;32m-> 6252\u001b[0m \u001b[38;5;28;01mraise\u001b[39;00m \u001b[38;5;167;01mKeyError\u001b[39;00m(\u001b[38;5;124mf\u001b[39m\u001b[38;5;124m\"\u001b[39m\u001b[38;5;132;01m{\u001b[39;00mnot_found\u001b[38;5;132;01m}\u001b[39;00m\u001b[38;5;124m not in index\u001b[39m\u001b[38;5;124m\"\u001b[39m)\n",
      "\u001b[1;31mKeyError\u001b[0m: \"['cellularity', 'death_from_cancer', 'pam50_+_claudin-low_subtype', 'her2_status_measured_by_snp6'] not in index\""
     ]
    }
   ],
   "source": [
    "x_train_encoded,y_train_encoded,selected_features_indices = preprocess_data(x_train,y_train)\n",
    "# select selected_features_indices from x_test\n",
    "x_test = x_test.iloc[:, selected_features_indices]\n",
    "print(x_test.head())"
   ]
  },
  {
   "cell_type": "code",
   "execution_count": 13,
   "metadata": {},
   "outputs": [],
   "source": [
    "ordinal_features = ['3-gene_classifier_subtype']# should add the genetic mutation cols too\n",
    "x_test[ordinal_features] = x_test[ordinal_features].apply(LabelEncoder().fit_transform)\n",
    "# all nominal features and genetic mutations are omitted\n",
    "x_test.to_csv(\"x_test.csv\", index=False)"
   ]
  },
  {
   "cell_type": "code",
   "execution_count": 14,
   "metadata": {},
   "outputs": [],
   "source": [
    "# encoding labels\n",
    "label_encoder = LabelEncoder()\n",
    "y_test_encoded = label_encoder.fit_transform(y_test)\n",
    "\n",
    "x_test_encoded = impute_missing_values_KNN(x_test)"
   ]
  },
  {
   "cell_type": "code",
   "execution_count": 15,
   "metadata": {},
   "outputs": [
    {
     "name": "stdout",
     "output_type": "stream",
     "text": [
      "Cross-validation f1-macro score:  0.9756364845945524\n",
      "Evaluation on Test data: \n",
      "accuracy = 0.7933333333333333\n",
      "precision = 0.5559006211180124\n",
      "recall = 0.4514603510895884\n",
      "f1-score = 0.4672570097117794\n"
     ]
    }
   ],
   "source": [
    "# Hyperparameter Tuning using GridSearchCV\n",
    "param_grid = {\n",
    "    # 'min_child_weight': [1, 3, 5],\n",
    "    # 'gamma': [0, 0.5, 1, 1.5],\n",
    "    'eta': [0.01, 0.1, 0.2],\n",
    "    # 'lambda': [0.01, 0.1, 1],\n",
    "    # 'alpha': [0, 0.1, 0.5, 1],\n",
    "    'max_depth': [3, 6, 9],\n",
    "}\n",
    "\n",
    "# Create a model\n",
    "xgb_model = XGBClassifier(use_label_encoder=False, objective='multi:softprob')\n",
    "# Create grid search object\n",
    "grid_search = GridSearchCV(estimator=xgb_model, param_grid=param_grid, cv=5, scoring='f1_macro',n_jobs=4)\n",
    "# Fit the grid search object to the train data\n",
    "grid_search.fit(x_train_encoded, y_train_encoded)\n",
    "\n",
    "# Best hyperparameters\n",
    "best_params = grid_search.best_params_\n",
    "print(\"best params: \",best_params)\n",
    "\n",
    "# Cross-validation f1-macro score\n",
    "best_score = grid_search.best_score_\n",
    "print(\"Cross-validation f1-macro score: \", best_score)\n",
    "\n",
    "# Refit the model with best hyperparameters to the train data\n",
    "best_xgb_model = XGBClassifier(**best_params)\n",
    "best_xgb_model.fit(x_train_encoded, y_train_encoded)\n",
    "\n",
    "# Predict labels of test data\n",
    "y_test_pred = best_xgb_model.predict(x_test_encoded)\n",
    "\n",
    "# Calculate performance metrics on Test Data\n",
    "accuracy = accuracy_score(y_test_encoded, y_test_pred)\n",
    "precision = precision_score(y_test_encoded, y_test_pred, average=\"macro\")\n",
    "recall = recall_score(y_test_encoded, y_test_pred, average=\"macro\")\n",
    "f1 = f1_score(y_test_encoded, y_test_pred, average=\"macro\")\n",
    "\n",
    "print(\"Evaluation on Test data: \")\n",
    "print(\"accuracy =\", accuracy)\n",
    "print(\"precision =\", precision)\n",
    "print(\"recall =\", recall)\n",
    "print(\"f1-score =\", f1)\n",
    "\n",
    "# Save the best model\n",
    "saveModel('best_xgb_model_main_7.pkl', best_xgb_model)"
   ]
  },
  {
   "cell_type": "code",
   "execution_count": null,
   "metadata": {},
   "outputs": [],
   "source": [
    "# plot learning curve for the best model\n",
    "plot_learning_curves(best_xgb_model, x_train_encoded, y_train_encoded)"
   ]
  },
  {
   "cell_type": "code",
   "execution_count": null,
   "metadata": {},
   "outputs": [],
   "source": [
    "selected_features_indices"
   ]
  }
 ],
 "metadata": {
  "colab": {
   "provenance": []
  },
  "kernelspec": {
   "display_name": "Python 3 (ipykernel)",
   "language": "python",
   "name": "python3"
  },
  "language_info": {
   "codemirror_mode": {
    "name": "ipython",
    "version": 3
   },
   "file_extension": ".py",
   "mimetype": "text/x-python",
   "name": "python",
   "nbconvert_exporter": "python",
   "pygments_lexer": "ipython3",
   "version": "3.9.13"
  }
 },
 "nbformat": 4,
 "nbformat_minor": 4
}
