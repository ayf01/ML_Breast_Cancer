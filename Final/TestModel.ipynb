{
 "cells": [
  {
   "cell_type": "code",
   "execution_count": null,
   "metadata": {},
   "outputs": [],
   "source": [
    "!pip install category_encoders\n",
    "!pip install xgboost"
   ]
  },
  {
   "cell_type": "code",
   "execution_count": 11,
   "metadata": {},
   "outputs": [],
   "source": [
    "# Input file name (can include path to the file if it's not in the same folder)\n",
    "file_name = \"data.csv\" "
   ]
  },
  {
   "cell_type": "code",
   "execution_count": null,
   "metadata": {},
   "outputs": [],
   "source": [
    "import numpy as np\n",
    "import pandas as pd\n",
    "import sklearn\n",
    "import pickle\n",
    "import category_encoders as ce\n",
    "from sklearn.preprocessing import LabelEncoder\n",
    "from sklearn.metrics import accuracy_score, f1_score, precision_score, recall_score\n",
    "from sklearn.impute import SimpleImputer\n",
    "\n",
    "# Get file method\n",
    "def get(fileName):\n",
    "  with open(fileName, 'rb') as f:\n",
    "      return pickle.load(f)\n",
    "  \n",
    "# Load test data \n",
    "data = pd.read_csv(file_name, encoding=\"utf-8\")\n",
    "\n",
    "y_test = data[\"cancer_type\"]\n",
    "x_test = data.drop(columns = [\"cancer_type\", \"patient_id\"])\n",
    "\n",
    "# Extract categorical and numerical columns \n",
    "def get_categorical_columns(df):\n",
    "    return list(df.select_dtypes(include=['object', 'category']).columns)\n",
    "def get_numerical_columns(df):\n",
    "    return list(df.select_dtypes(include=['number']).columns)\n",
    "\n",
    "categorical_columns = get_categorical_columns(x_test)\n",
    "numerical_columns = get_numerical_columns(x_test)\n",
    "\n",
    "# Encode the data \n",
    "y_test = LabelEncoder().fit_transform(y_test)\n",
    "\n",
    "encoder = ce.TargetEncoder(cols=categorical_columns)\n",
    "x_test = encoder.fit_transform(x_test, y_test)\n",
    "\n",
    "# Handle null values by using imputation \n",
    "numerical_imputer = SimpleImputer(strategy='mean') \n",
    "categorical_imputer = SimpleImputer(strategy='most_frequent')  \n",
    "\n",
    "if numerical_columns:\n",
    "    x_test[numerical_columns] = numerical_imputer.fit_transform(x_test[numerical_columns])\n",
    "\n",
    "if categorical_columns:\n",
    "    x_test[categorical_columns] = categorical_imputer.fit_transform(x_test[categorical_columns])\n",
    "\n",
    "# Retrieve selected features that were generated from main training model\n",
    "selected_features_mask = get('selected_features_mask.pkl')\n",
    "\n",
    "# Remove selected features from test data \n",
    "x_test = x_test.iloc[:, selected_features_mask]\n",
    "\n",
    "# Retrieve best model generated from training (XGBoost Model)\n",
    "best_model = get('best_model.pkl')\n",
    "\n",
    "# Predict and generate needed metrics \n",
    "test_pred = best_model.predict(x_test)\n",
    "\n",
    "accuracy = accuracy_score(y_test, test_pred)\n",
    "precision = precision_score(y_test, test_pred, average=\"macro\")\n",
    "recall = recall_score(y_test, test_pred, average=\"macro\")\n",
    "f1 = f1_score(y_test, test_pred, average=\"macro\")\n",
    "\n",
    "print(\"accuracy =\", accuracy)\n",
    "print(\"precision =\", precision)\n",
    "print(\"recall =\", recall)\n",
    "print(\"f1-score =\", f1)"
   ]
  }
 ],
 "metadata": {
  "colab": {
   "provenance": []
  },
  "kernelspec": {
   "display_name": "Python 3 (ipykernel)",
   "language": "python",
   "name": "python3"
  },
  "language_info": {
   "codemirror_mode": {
    "name": "ipython",
    "version": 3
   },
   "file_extension": ".py",
   "mimetype": "text/x-python",
   "name": "python",
   "nbconvert_exporter": "python",
   "pygments_lexer": "ipython3",
   "version": "3.11.5"
  }
 },
 "nbformat": 4,
 "nbformat_minor": 4
}
