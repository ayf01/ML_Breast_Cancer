{
 "cells": [
  {
   "cell_type": "code",
   "execution_count": 10,
   "metadata": {},
   "outputs": [
    {
     "name": "stdout",
     "output_type": "stream",
     "text": [
      "Requirement already satisfied: category_encoders in c:\\users\\sumaya\\anaconda3\\lib\\site-packages (2.6.3)\n",
      "Requirement already satisfied: numpy>=1.14.0 in c:\\users\\sumaya\\anaconda3\\lib\\site-packages (from category_encoders) (1.24.3)\n",
      "Requirement already satisfied: scikit-learn>=0.20.0 in c:\\users\\sumaya\\anaconda3\\lib\\site-packages (from category_encoders) (1.3.0)\n",
      "Requirement already satisfied: scipy>=1.0.0 in c:\\users\\sumaya\\anaconda3\\lib\\site-packages (from category_encoders) (1.11.1)\n",
      "Requirement already satisfied: statsmodels>=0.9.0 in c:\\users\\sumaya\\anaconda3\\lib\\site-packages (from category_encoders) (0.14.0)\n",
      "Requirement already satisfied: pandas>=1.0.5 in c:\\users\\sumaya\\anaconda3\\lib\\site-packages (from category_encoders) (2.0.3)\n",
      "Requirement already satisfied: patsy>=0.5.1 in c:\\users\\sumaya\\anaconda3\\lib\\site-packages (from category_encoders) (0.5.3)\n",
      "Requirement already satisfied: python-dateutil>=2.8.2 in c:\\users\\sumaya\\anaconda3\\lib\\site-packages (from pandas>=1.0.5->category_encoders) (2.8.2)\n",
      "Requirement already satisfied: pytz>=2020.1 in c:\\users\\sumaya\\anaconda3\\lib\\site-packages (from pandas>=1.0.5->category_encoders) (2023.3.post1)\n",
      "Requirement already satisfied: tzdata>=2022.1 in c:\\users\\sumaya\\anaconda3\\lib\\site-packages (from pandas>=1.0.5->category_encoders) (2023.3)\n",
      "Requirement already satisfied: six in c:\\users\\sumaya\\anaconda3\\lib\\site-packages (from patsy>=0.5.1->category_encoders) (1.16.0)\n",
      "Requirement already satisfied: joblib>=1.1.1 in c:\\users\\sumaya\\anaconda3\\lib\\site-packages (from scikit-learn>=0.20.0->category_encoders) (1.2.0)\n",
      "Requirement already satisfied: threadpoolctl>=2.0.0 in c:\\users\\sumaya\\anaconda3\\lib\\site-packages (from scikit-learn>=0.20.0->category_encoders) (2.2.0)\n",
      "Requirement already satisfied: packaging>=21.3 in c:\\users\\sumaya\\anaconda3\\lib\\site-packages (from statsmodels>=0.9.0->category_encoders) (23.1)\n",
      "Requirement already satisfied: xgboost in c:\\users\\sumaya\\appdata\\roaming\\python\\python311\\site-packages (2.0.3)\n",
      "Requirement already satisfied: numpy in c:\\users\\sumaya\\anaconda3\\lib\\site-packages (from xgboost) (1.24.3)\n",
      "Requirement already satisfied: scipy in c:\\users\\sumaya\\anaconda3\\lib\\site-packages (from xgboost) (1.11.1)\n"
     ]
    }
   ],
   "source": [
    "!pip install category_encoders\n",
    "!pip install xgboost"
   ]
  },
  {
   "cell_type": "code",
   "execution_count": 11,
   "metadata": {},
   "outputs": [],
   "source": [
    "# Input file name (can include path to the file if it's not in the same folder)\n",
    "file_name = \"data.csv\" "
   ]
  },
  {
   "cell_type": "code",
   "execution_count": 12,
   "metadata": {},
   "outputs": [
    {
     "name": "stderr",
     "output_type": "stream",
     "text": [
      "C:\\Users\\Sumaya\\AppData\\Local\\Temp\\ipykernel_35828\\1245591348.py:16: DtypeWarning: Columns (662,664,676,677,683,685,686,687) have mixed types. Specify dtype option on import or set low_memory=False.\n",
      "  data = pd.read_csv(file_name, encoding=\"utf-8\")\n"
     ]
    },
    {
     "name": "stdout",
     "output_type": "stream",
     "text": [
      "accuracy = 0.9344919786096256\n",
      "precision = 0.9607015775188231\n",
      "recall = 0.7722338059494023\n",
      "f1-score = 0.8449273169004418\n"
     ]
    }
   ],
   "source": [
    "import numpy as np\n",
    "import pandas as pd\n",
    "import sklearn\n",
    "import pickle\n",
    "import category_encoders as ce\n",
    "from sklearn.preprocessing import LabelEncoder\n",
    "from sklearn.metrics import accuracy_score, f1_score, precision_score, recall_score\n",
    "from sklearn.impute import SimpleImputer\n",
    "\n",
    "# Get file method\n",
    "def get(fileName):\n",
    "  with open(fileName, 'rb') as f:\n",
    "      return pickle.load(f)\n",
    "  \n",
    "# Load test data \n",
    "data = pd.read_csv(file_name, encoding=\"utf-8\")\n",
    "\n",
    "y_test = data[\"cancer_type\"]\n",
    "x_test = data.drop(columns = [\"cancer_type\", \"patient_id\"])\n",
    "\n",
    "# Extract categorical and numerical columns \n",
    "def get_categorical_columns(df):\n",
    "    return list(df.select_dtypes(include=['object', 'category']).columns)\n",
    "def get_numerical_columns(df):\n",
    "    return list(df.select_dtypes(include=['number']).columns)\n",
    "\n",
    "categorical_columns = get_categorical_columns(x_test)\n",
    "numerical_columns = get_numerical_columns(x_test)\n",
    "\n",
    "# Encode the data \n",
    "y_test = LabelEncoder().fit_transform(y_test)\n",
    "\n",
    "encoder = ce.TargetEncoder(cols=categorical_columns)\n",
    "x_test = encoder.fit_transform(x_test, y_test)\n",
    "\n",
    "# Handle null values by using imputation \n",
    "numerical_imputer = SimpleImputer(strategy='mean') \n",
    "categorical_imputer = SimpleImputer(strategy='most_frequent')  \n",
    "\n",
    "if numerical_columns:\n",
    "    x_test[numerical_columns] = numerical_imputer.fit_transform(x_test[numerical_columns])\n",
    "\n",
    "if categorical_columns:\n",
    "    x_test[categorical_columns] = categorical_imputer.fit_transform(x_test[categorical_columns])\n",
    "\n",
    "# Retrieve selected features that were generated from main training model\n",
    "selected_features_mask = get('selected_features_mask.pkl')\n",
    "\n",
    "# Remove selected features from test data \n",
    "x_test = x_test.iloc[:, selected_features_mask]\n",
    "\n",
    "# Retrieve best model generated from training (XGBoost Model)\n",
    "best_model = get('best_model.pkl')\n",
    "\n",
    "# Predict and generate needed metrics \n",
    "test_pred = best_model.predict(x_test)\n",
    "\n",
    "accuracy = accuracy_score(y_test, test_pred)\n",
    "precision = precision_score(y_test, test_pred, average=\"macro\")\n",
    "recall = recall_score(y_test, test_pred, average=\"macro\")\n",
    "f1 = f1_score(y_test, test_pred, average=\"macro\")\n",
    "\n",
    "print(\"accuracy =\", accuracy)\n",
    "print(\"precision =\", precision)\n",
    "print(\"recall =\", recall)\n",
    "print(\"f1-score =\", f1)"
   ]
  }
 ],
 "metadata": {
  "colab": {
   "provenance": []
  },
  "kernelspec": {
   "display_name": "Python 3 (ipykernel)",
   "language": "python",
   "name": "python3"
  },
  "language_info": {
   "codemirror_mode": {
    "name": "ipython",
    "version": 3
   },
   "file_extension": ".py",
   "mimetype": "text/x-python",
   "name": "python",
   "nbconvert_exporter": "python",
   "pygments_lexer": "ipython3",
   "version": "3.11.5"
  }
 },
 "nbformat": 4,
 "nbformat_minor": 4
}
