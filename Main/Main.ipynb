{
 "cells": [
  {
   "cell_type": "markdown",
   "metadata": {
    "id": "uf8zksoawaHq"
   },
   "source": [
    "# ML: Breast Cancer"
   ]
  },
  {
   "cell_type": "markdown",
   "metadata": {},
   "source": [
    "## Part 0: Pre-requisites "
   ]
  },
  {
   "cell_type": "markdown",
   "metadata": {},
   "source": [
    "### Imports"
   ]
  },
  {
   "cell_type": "code",
   "execution_count": 1,
   "metadata": {},
   "outputs": [
    {
     "name": "stderr",
     "output_type": "stream",
     "text": [
      "ERROR: Could not find a version that satisfies the requirement keras.wrappers (from versions: none)\n",
      "ERROR: No matching distribution found for keras.wrappers\n"
     ]
    },
    {
     "name": "stdout",
     "output_type": "stream",
     "text": [
      "Requirement already satisfied: tensorflow in c:\\users\\aidaf\\appdata\\local\\programs\\python\\python312\\lib\\site-packages (2.16.1)\n",
      "Requirement already satisfied: tensorflow-intel==2.16.1 in c:\\users\\aidaf\\appdata\\local\\programs\\python\\python312\\lib\\site-packages (from tensorflow) (2.16.1)\n",
      "Requirement already satisfied: absl-py>=1.0.0 in c:\\users\\aidaf\\appdata\\local\\programs\\python\\python312\\lib\\site-packages (from tensorflow-intel==2.16.1->tensorflow) (2.1.0)\n",
      "Requirement already satisfied: astunparse>=1.6.0 in c:\\users\\aidaf\\appdata\\local\\programs\\python\\python312\\lib\\site-packages (from tensorflow-intel==2.16.1->tensorflow) (1.6.3)\n",
      "Requirement already satisfied: flatbuffers>=23.5.26 in c:\\users\\aidaf\\appdata\\local\\programs\\python\\python312\\lib\\site-packages (from tensorflow-intel==2.16.1->tensorflow) (24.3.25)\n",
      "Requirement already satisfied: gast!=0.5.0,!=0.5.1,!=0.5.2,>=0.2.1 in c:\\users\\aidaf\\appdata\\local\\programs\\python\\python312\\lib\\site-packages (from tensorflow-intel==2.16.1->tensorflow) (0.5.4)\n",
      "Requirement already satisfied: google-pasta>=0.1.1 in c:\\users\\aidaf\\appdata\\local\\programs\\python\\python312\\lib\\site-packages (from tensorflow-intel==2.16.1->tensorflow) (0.2.0)\n",
      "Requirement already satisfied: h5py>=3.10.0 in c:\\users\\aidaf\\appdata\\local\\programs\\python\\python312\\lib\\site-packages (from tensorflow-intel==2.16.1->tensorflow) (3.10.0)\n",
      "Requirement already satisfied: libclang>=13.0.0 in c:\\users\\aidaf\\appdata\\local\\programs\\python\\python312\\lib\\site-packages (from tensorflow-intel==2.16.1->tensorflow) (18.1.1)\n",
      "Requirement already satisfied: ml-dtypes~=0.3.1 in c:\\users\\aidaf\\appdata\\local\\programs\\python\\python312\\lib\\site-packages (from tensorflow-intel==2.16.1->tensorflow) (0.3.2)\n",
      "Requirement already satisfied: opt-einsum>=2.3.2 in c:\\users\\aidaf\\appdata\\local\\programs\\python\\python312\\lib\\site-packages (from tensorflow-intel==2.16.1->tensorflow) (3.3.0)\n",
      "Requirement already satisfied: packaging in c:\\users\\aidaf\\appdata\\local\\programs\\python\\python312\\lib\\site-packages (from tensorflow-intel==2.16.1->tensorflow) (21.3)\n",
      "Requirement already satisfied: protobuf!=4.21.0,!=4.21.1,!=4.21.2,!=4.21.3,!=4.21.4,!=4.21.5,<5.0.0dev,>=3.20.3 in c:\\users\\aidaf\\appdata\\local\\programs\\python\\python312\\lib\\site-packages (from tensorflow-intel==2.16.1->tensorflow) (4.25.3)\n",
      "Requirement already satisfied: requests<3,>=2.21.0 in c:\\users\\aidaf\\appdata\\local\\programs\\python\\python312\\lib\\site-packages (from tensorflow-intel==2.16.1->tensorflow) (2.31.0)\n",
      "Requirement already satisfied: setuptools in c:\\users\\aidaf\\appdata\\local\\programs\\python\\python312\\lib\\site-packages (from tensorflow-intel==2.16.1->tensorflow) (69.2.0)\n",
      "Requirement already satisfied: six>=1.12.0 in c:\\users\\aidaf\\appdata\\local\\programs\\python\\python312\\lib\\site-packages (from tensorflow-intel==2.16.1->tensorflow) (1.16.0)\n",
      "Requirement already satisfied: termcolor>=1.1.0 in c:\\users\\aidaf\\appdata\\local\\programs\\python\\python312\\lib\\site-packages (from tensorflow-intel==2.16.1->tensorflow) (2.4.0)\n",
      "Requirement already satisfied: typing-extensions>=3.6.6 in c:\\users\\aidaf\\appdata\\local\\programs\\python\\python312\\lib\\site-packages (from tensorflow-intel==2.16.1->tensorflow) (4.11.0)\n",
      "Requirement already satisfied: wrapt>=1.11.0 in c:\\users\\aidaf\\appdata\\local\\programs\\python\\python312\\lib\\site-packages (from tensorflow-intel==2.16.1->tensorflow) (1.16.0)\n",
      "Requirement already satisfied: grpcio<2.0,>=1.24.3 in c:\\users\\aidaf\\appdata\\local\\programs\\python\\python312\\lib\\site-packages (from tensorflow-intel==2.16.1->tensorflow) (1.62.1)\n",
      "Requirement already satisfied: tensorboard<2.17,>=2.16 in c:\\users\\aidaf\\appdata\\local\\programs\\python\\python312\\lib\\site-packages (from tensorflow-intel==2.16.1->tensorflow) (2.16.2)\n",
      "Collecting keras>=3.0.0 (from tensorflow-intel==2.16.1->tensorflow)\n",
      "  Downloading keras-3.2.1-py3-none-any.whl.metadata (5.6 kB)\n",
      "Requirement already satisfied: numpy<2.0.0,>=1.26.0 in c:\\users\\aidaf\\appdata\\local\\programs\\python\\python312\\lib\\site-packages (from tensorflow-intel==2.16.1->tensorflow) (1.26.0)\n",
      "Requirement already satisfied: wheel<1.0,>=0.23.0 in c:\\users\\aidaf\\appdata\\local\\programs\\python\\python312\\lib\\site-packages (from astunparse>=1.6.0->tensorflow-intel==2.16.1->tensorflow) (0.43.0)\n",
      "Requirement already satisfied: rich in c:\\users\\aidaf\\appdata\\local\\programs\\python\\python312\\lib\\site-packages (from keras>=3.0.0->tensorflow-intel==2.16.1->tensorflow) (13.7.1)\n",
      "Requirement already satisfied: namex in c:\\users\\aidaf\\appdata\\local\\programs\\python\\python312\\lib\\site-packages (from keras>=3.0.0->tensorflow-intel==2.16.1->tensorflow) (0.0.7)\n",
      "Requirement already satisfied: optree in c:\\users\\aidaf\\appdata\\local\\programs\\python\\python312\\lib\\site-packages (from keras>=3.0.0->tensorflow-intel==2.16.1->tensorflow) (0.11.0)\n",
      "Requirement already satisfied: charset-normalizer<4,>=2 in c:\\users\\aidaf\\appdata\\local\\programs\\python\\python312\\lib\\site-packages (from requests<3,>=2.21.0->tensorflow-intel==2.16.1->tensorflow) (3.3.2)\n",
      "Requirement already satisfied: idna<4,>=2.5 in c:\\users\\aidaf\\appdata\\local\\programs\\python\\python312\\lib\\site-packages (from requests<3,>=2.21.0->tensorflow-intel==2.16.1->tensorflow) (3.6)\n",
      "Requirement already satisfied: urllib3<3,>=1.21.1 in c:\\users\\aidaf\\appdata\\local\\programs\\python\\python312\\lib\\site-packages (from requests<3,>=2.21.0->tensorflow-intel==2.16.1->tensorflow) (2.1.0)\n",
      "Requirement already satisfied: certifi>=2017.4.17 in c:\\users\\aidaf\\appdata\\local\\programs\\python\\python312\\lib\\site-packages (from requests<3,>=2.21.0->tensorflow-intel==2.16.1->tensorflow) (2023.11.17)\n",
      "Requirement already satisfied: markdown>=2.6.8 in c:\\users\\aidaf\\appdata\\local\\programs\\python\\python312\\lib\\site-packages (from tensorboard<2.17,>=2.16->tensorflow-intel==2.16.1->tensorflow) (3.6)\n",
      "Requirement already satisfied: tensorboard-data-server<0.8.0,>=0.7.0 in c:\\users\\aidaf\\appdata\\local\\programs\\python\\python312\\lib\\site-packages (from tensorboard<2.17,>=2.16->tensorflow-intel==2.16.1->tensorflow) (0.7.2)\n",
      "Requirement already satisfied: werkzeug>=1.0.1 in c:\\users\\aidaf\\appdata\\local\\programs\\python\\python312\\lib\\site-packages (from tensorboard<2.17,>=2.16->tensorflow-intel==2.16.1->tensorflow) (3.0.2)\n",
      "Requirement already satisfied: pyparsing!=3.0.5,>=2.0.2 in c:\\users\\aidaf\\appdata\\local\\programs\\python\\python312\\lib\\site-packages (from packaging->tensorflow-intel==2.16.1->tensorflow) (3.1.1)\n",
      "Requirement already satisfied: MarkupSafe>=2.1.1 in c:\\users\\aidaf\\appdata\\local\\programs\\python\\python312\\lib\\site-packages (from werkzeug>=1.0.1->tensorboard<2.17,>=2.16->tensorflow-intel==2.16.1->tensorflow) (2.1.4)\n",
      "Requirement already satisfied: markdown-it-py>=2.2.0 in c:\\users\\aidaf\\appdata\\local\\programs\\python\\python312\\lib\\site-packages (from rich->keras>=3.0.0->tensorflow-intel==2.16.1->tensorflow) (3.0.0)\n",
      "Requirement already satisfied: pygments<3.0.0,>=2.13.0 in c:\\users\\aidaf\\appdata\\local\\programs\\python\\python312\\lib\\site-packages (from rich->keras>=3.0.0->tensorflow-intel==2.16.1->tensorflow) (2.17.2)\n",
      "Requirement already satisfied: mdurl~=0.1 in c:\\users\\aidaf\\appdata\\local\\programs\\python\\python312\\lib\\site-packages (from markdown-it-py>=2.2.0->rich->keras>=3.0.0->tensorflow-intel==2.16.1->tensorflow) (0.1.2)\n",
      "Downloading keras-3.2.1-py3-none-any.whl (1.1 MB)\n",
      "   ---------------------------------------- 0.0/1.1 MB ? eta -:--:--\n",
      "   - -------------------------------------- 0.0/1.1 MB ? eta -:--:--\n",
      "   -- ------------------------------------- 0.1/1.1 MB 1.1 MB/s eta 0:00:01\n",
      "   -- ------------------------------------- 0.1/1.1 MB 1.1 MB/s eta 0:00:01\n",
      "   -- ------------------------------------- 0.1/1.1 MB 1.1 MB/s eta 0:00:01\n",
      "   ----- ---------------------------------- 0.1/1.1 MB 847.9 kB/s eta 0:00:02\n",
      "   ------ --------------------------------- 0.2/1.1 MB 807.1 kB/s eta 0:00:02\n",
      "   ------- -------------------------------- 0.2/1.1 MB 778.2 kB/s eta 0:00:02\n",
      "   -------- ------------------------------- 0.2/1.1 MB 808.4 kB/s eta 0:00:02\n",
      "   --------- ------------------------------ 0.3/1.1 MB 785.2 kB/s eta 0:00:02\n",
      "   ----------- ---------------------------- 0.3/1.1 MB 791.9 kB/s eta 0:00:01\n",
      "   ----------- ---------------------------- 0.3/1.1 MB 754.8 kB/s eta 0:00:02\n",
      "   ------------- -------------------------- 0.4/1.1 MB 768.6 kB/s eta 0:00:01\n",
      "   ------------- -------------------------- 0.4/1.1 MB 764.2 kB/s eta 0:00:01\n",
      "   --------------- ------------------------ 0.4/1.1 MB 767.5 kB/s eta 0:00:01\n",
      "   ----------------- ---------------------- 0.5/1.1 MB 758.5 kB/s eta 0:00:01\n",
      "   ------------------ --------------------- 0.5/1.1 MB 750.8 kB/s eta 0:00:01\n",
      "   ------------------ --------------------- 0.5/1.1 MB 763.7 kB/s eta 0:00:01\n",
      "   -------------------- ------------------- 0.5/1.1 MB 757.4 kB/s eta 0:00:01\n",
      "   -------------------- ------------------- 0.6/1.1 MB 752.3 kB/s eta 0:00:01\n",
      "   -------------------- ------------------- 0.6/1.1 MB 752.3 kB/s eta 0:00:01\n",
      "   ----------------------- ---------------- 0.6/1.1 MB 755.7 kB/s eta 0:00:01\n",
      "   ------------------------ --------------- 0.7/1.1 MB 750.1 kB/s eta 0:00:01\n",
      "   ------------------------- -------------- 0.7/1.1 MB 756.4 kB/s eta 0:00:01\n",
      "   -------------------------- ------------- 0.7/1.1 MB 742.3 kB/s eta 0:00:01\n",
      "   -------------------------- ------------- 0.7/1.1 MB 742.3 kB/s eta 0:00:01\n",
      "   ---------------------------- ----------- 0.8/1.1 MB 747.5 kB/s eta 0:00:01\n",
      "   ----------------------------- ---------- 0.8/1.1 MB 740.9 kB/s eta 0:00:01\n",
      "   ------------------------------ --------- 0.8/1.1 MB 739.5 kB/s eta 0:00:01\n",
      "   ------------------------------- -------- 0.9/1.1 MB 744.9 kB/s eta 0:00:01\n",
      "   -------------------------------- ------- 0.9/1.1 MB 743.4 kB/s eta 0:00:01\n",
      "   --------------------------------- ------ 0.9/1.1 MB 740.5 kB/s eta 0:00:01\n",
      "   ---------------------------------- ----- 0.9/1.1 MB 745.5 kB/s eta 0:00:01\n",
      "   ------------------------------------ --- 1.0/1.1 MB 740.9 kB/s eta 0:00:01\n",
      "   ------------------------------------- -- 1.0/1.1 MB 737.9 kB/s eta 0:00:01\n",
      "   ------------------------------------- -- 1.0/1.1 MB 737.9 kB/s eta 0:00:01\n",
      "   ---------------------------------------  1.1/1.1 MB 740.6 kB/s eta 0:00:01\n",
      "   ---------------------------------------- 1.1/1.1 MB 736.2 kB/s eta 0:00:00\n",
      "Installing collected packages: keras\n",
      "  Attempting uninstall: keras\n",
      "    Found existing installation: keras 2.15.0\n",
      "    Uninstalling keras-2.15.0:\n",
      "      Successfully uninstalled keras-2.15.0\n",
      "Successfully installed keras-3.2.1\n",
      "Requirement already satisfied: scikeras in c:\\users\\aidaf\\appdata\\local\\programs\\python\\python312\\lib\\site-packages (0.4.1)\n",
      "Requirement already satisfied: packaging<22.0,>=0.21 in c:\\users\\aidaf\\appdata\\local\\programs\\python\\python312\\lib\\site-packages (from scikeras) (21.3)\n",
      "Requirement already satisfied: scikit-learn>=0.22.0 in c:\\users\\aidaf\\appdata\\local\\programs\\python\\python312\\lib\\site-packages (from scikeras) (1.4.0)\n",
      "Requirement already satisfied: pyparsing!=3.0.5,>=2.0.2 in c:\\users\\aidaf\\appdata\\local\\programs\\python\\python312\\lib\\site-packages (from packaging<22.0,>=0.21->scikeras) (3.1.1)\n",
      "Requirement already satisfied: numpy<2.0,>=1.19.5 in c:\\users\\aidaf\\appdata\\local\\programs\\python\\python312\\lib\\site-packages (from scikit-learn>=0.22.0->scikeras) (1.26.0)\n",
      "Requirement already satisfied: scipy>=1.6.0 in c:\\users\\aidaf\\appdata\\local\\programs\\python\\python312\\lib\\site-packages (from scikit-learn>=0.22.0->scikeras) (1.12.0)\n",
      "Requirement already satisfied: joblib>=1.2.0 in c:\\users\\aidaf\\appdata\\local\\programs\\python\\python312\\lib\\site-packages (from scikit-learn>=0.22.0->scikeras) (1.3.2)\n",
      "Requirement already satisfied: threadpoolctl>=2.0.0 in c:\\users\\aidaf\\appdata\\local\\programs\\python\\python312\\lib\\site-packages (from scikit-learn>=0.22.0->scikeras) (3.2.0)\n",
      "Collecting keras==2.15.0"
     ]
    },
    {
     "name": "stderr",
     "output_type": "stream",
     "text": [
      "ERROR: pip's dependency resolver does not currently take into account all the packages that are installed. This behaviour is the source of the following dependency conflicts.\n",
      "tensorflow-intel 2.16.1 requires keras>=3.0.0, but you have keras 2.15.0 which is incompatible.\n"
     ]
    },
    {
     "name": "stdout",
     "output_type": "stream",
     "text": [
      "\n",
      "  Using cached keras-2.15.0-py3-none-any.whl.metadata (2.4 kB)\n",
      "Using cached keras-2.15.0-py3-none-any.whl (1.7 MB)\n",
      "Installing collected packages: keras\n",
      "  Attempting uninstall: keras\n",
      "    Found existing installation: keras 3.2.1\n",
      "    Uninstalling keras-3.2.1:\n",
      "      Successfully uninstalled keras-3.2.1\n",
      "Successfully installed keras-2.15.0\n"
     ]
    }
   ],
   "source": [
    "!pip install keras.wrappers\n",
    "!pip install tensorflow\n",
    "!pip install scikeras\n",
    "!pip install keras==2.15.0"
   ]
  },
  {
   "cell_type": "code",
   "execution_count": 17,
   "metadata": {},
   "outputs": [],
   "source": [
    "import numpy as np\n",
    "import pandas as pd\n",
    "import sklearn\n",
    "import pickle\n",
    "import matplotlib.pyplot as plt\n",
    "from sklearn.model_selection import train_test_split\n",
    "from sklearn.model_selection import learning_curve\n",
    "from sklearn.model_selection import GridSearchCV\n",
    "from sklearn.decomposition import PCA\n",
    "from sklearn.linear_model import LogisticRegression\n",
    "from sklearn.preprocessing import LabelEncoder\n",
    "from sklearn.metrics import accuracy_score\n",
    "from sklearn.ensemble import RandomForestClassifier\n",
    "from sklearn.svm import SVC\n",
    "from sklearn.ensemble import GradientBoostingClassifier\n",
    "from sklearn.pipeline import Pipeline\n",
    "from sklearn.preprocessing import FunctionTransformer\n",
    "from sklearn.model_selection import RandomizedSearchCV"
   ]
  },
  {
   "cell_type": "markdown",
   "metadata": {},
   "source": [
    "### Function to plot the learning curve "
   ]
  },
  {
   "cell_type": "code",
   "execution_count": 18,
   "metadata": {},
   "outputs": [],
   "source": [
    "def plot_learning_curves(model, x_train, y_train, x_val, y_val):\n",
    "    train_sizes, train_scores, val_scores = learning_curve(model, x_train, y_train, cv=5, scoring='accuracy', train_sizes=np.linspace(0.1, 1.0, 10))\n",
    "\n",
    "    train_scores_mean = np.mean(train_scores, axis=1)\n",
    "    train_scores_std = np.std(train_scores, axis=1)\n",
    "    val_scores_mean = np.mean(val_scores, axis=1)\n",
    "    val_scores_std = np.std(val_scores, axis=1)\n",
    "\n",
    "    plt.figure(figsize=(10, 6))\n",
    "    plt.title(\"Learning Curves\")\n",
    "    plt.xlabel(\"Training Examples\")\n",
    "    plt.ylabel(\"Score\")\n",
    "    plt.grid()\n",
    "\n",
    "    plt.fill_between(train_sizes, train_scores_mean - train_scores_std, train_scores_mean + train_scores_std, alpha=0.1, color=\"r\")\n",
    "    plt.fill_between(train_sizes, val_scores_mean - val_scores_std, val_scores_mean + val_scores_std, alpha=0.1, color=\"g\")\n",
    "\n",
    "    plt.plot(train_sizes, train_scores_mean, 'o-', color=\"r\", label=\"Training score\")\n",
    "    plt.plot(train_sizes, val_scores_mean, 'o-', color=\"g\", label=\"Cross-validation score\")\n",
    "\n",
    "    plt.legend(loc=\"best\")\n",
    "    plt.show()"
   ]
  },
  {
   "cell_type": "markdown",
   "metadata": {},
   "source": [
    "### Function to split the data "
   ]
  },
  {
   "cell_type": "code",
   "execution_count": 19,
   "metadata": {},
   "outputs": [],
   "source": [
    "def train_val_test_split(x, y):\n",
    "    # Splitting into training (80%) and temporary set (20%)\n",
    "    x_train, x_temp, y_train, y_temp = train_test_split(x, y, test_size=0.2, shuffle=True, random_state=3)\n",
    "    # Splitting the temporary set into validation (50%) and test (50%)\n",
    "    x_val, x_test, y_val, y_test = train_test_split(x_temp, y_temp, test_size=0.5, shuffle=True, random_state=3)\n",
    "    return x_train, y_train, x_val, y_val, x_test, y_test"
   ]
  },
  {
   "cell_type": "code",
   "execution_count": 20,
   "metadata": {},
   "outputs": [],
   "source": [
    "# Used locally \n",
    "path = \"C:\\\\Users\\\\aidaf\\\\OneDrive\\\\Documents\\\\University\\\\Spring 2023-2024\\\\CMPS 396V Machine Learning\\\\Project\\\\ML_Breast_Cancer\\\\Models\\\\\"\n",
    "\n",
    "# Used to load and save models for later use\n",
    "\n",
    "def saveModel(fileName, model):\n",
    "  with open(path + fileName, 'wb') as f:\n",
    "      pickle.dump(model, f)\n",
    "\n",
    "def getModel(fileName):\n",
    "  with open(path + fileName, 'rb') as f:\n",
    "      loaded_model = pickle.load(f)"
   ]
  },
  {
   "cell_type": "code",
   "execution_count": 21,
   "metadata": {},
   "outputs": [],
   "source": [
    "results = [] # Array used to store tuples of (model, accuracy_score)"
   ]
  },
  {
   "cell_type": "markdown",
   "metadata": {
    "id": "oxFKBF_4xByj"
   },
   "source": [
    "## Part 1: Data \n"
   ]
  },
  {
   "cell_type": "markdown",
   "metadata": {
    "id": "E7PmButs0TOj"
   },
   "source": [
    "### Load the data "
   ]
  },
  {
   "cell_type": "code",
   "execution_count": 22,
   "metadata": {
    "id": "tg2D2bbw0c5c"
   },
   "outputs": [
    {
     "name": "stderr",
     "output_type": "stream",
     "text": [
      "C:\\Users\\aidaf\\AppData\\Local\\Temp\\ipykernel_22952\\3240169054.py:1: DtypeWarning: Columns (662,664,676,677,683,685,686,687) have mixed types. Specify dtype option on import or set low_memory=False.\n",
      "  data = pd.read_csv(\"data.csv\", encoding=\"utf-8\")\n"
     ]
    },
    {
     "data": {
      "text/html": [
       "<div>\n",
       "<style scoped>\n",
       "    .dataframe tbody tr th:only-of-type {\n",
       "        vertical-align: middle;\n",
       "    }\n",
       "\n",
       "    .dataframe tbody tr th {\n",
       "        vertical-align: top;\n",
       "    }\n",
       "\n",
       "    .dataframe thead th {\n",
       "        text-align: right;\n",
       "    }\n",
       "</style>\n",
       "<table border=\"1\" class=\"dataframe\">\n",
       "  <thead>\n",
       "    <tr style=\"text-align: right;\">\n",
       "      <th></th>\n",
       "      <th>cancer_type</th>\n",
       "      <th>patient_id</th>\n",
       "      <th>age_at_diagnosis</th>\n",
       "      <th>cellularity</th>\n",
       "      <th>chemotherapy</th>\n",
       "      <th>pam50_+_claudin-low_subtype</th>\n",
       "      <th>cohort</th>\n",
       "      <th>er_status_measured_by_ihc</th>\n",
       "      <th>er_status</th>\n",
       "      <th>neoplasm_histologic_grade</th>\n",
       "      <th>...</th>\n",
       "      <th>mtap_mut</th>\n",
       "      <th>ppp2cb_mut</th>\n",
       "      <th>smarcd1_mut</th>\n",
       "      <th>nras_mut</th>\n",
       "      <th>ndfip1_mut</th>\n",
       "      <th>hras_mut</th>\n",
       "      <th>prps2_mut</th>\n",
       "      <th>smarcb1_mut</th>\n",
       "      <th>stmn2_mut</th>\n",
       "      <th>siah1_mut</th>\n",
       "    </tr>\n",
       "  </thead>\n",
       "  <tbody>\n",
       "    <tr>\n",
       "      <th>0</th>\n",
       "      <td>Breast Invasive Ductal Carcinoma</td>\n",
       "      <td>474</td>\n",
       "      <td>54.29</td>\n",
       "      <td>High</td>\n",
       "      <td>1</td>\n",
       "      <td>LumB</td>\n",
       "      <td>1</td>\n",
       "      <td>Positve</td>\n",
       "      <td>Positive</td>\n",
       "      <td>3.0</td>\n",
       "      <td>...</td>\n",
       "      <td>0</td>\n",
       "      <td>0</td>\n",
       "      <td>0</td>\n",
       "      <td>0</td>\n",
       "      <td>0</td>\n",
       "      <td>0</td>\n",
       "      <td>0</td>\n",
       "      <td>0</td>\n",
       "      <td>0</td>\n",
       "      <td>0</td>\n",
       "    </tr>\n",
       "    <tr>\n",
       "      <th>1</th>\n",
       "      <td>Breast Invasive Ductal Carcinoma</td>\n",
       "      <td>7029</td>\n",
       "      <td>43.45</td>\n",
       "      <td>Moderate</td>\n",
       "      <td>0</td>\n",
       "      <td>LumA</td>\n",
       "      <td>4</td>\n",
       "      <td>Positve</td>\n",
       "      <td>Positive</td>\n",
       "      <td>1.0</td>\n",
       "      <td>...</td>\n",
       "      <td>0</td>\n",
       "      <td>0</td>\n",
       "      <td>0</td>\n",
       "      <td>0</td>\n",
       "      <td>0</td>\n",
       "      <td>0</td>\n",
       "      <td>0</td>\n",
       "      <td>0</td>\n",
       "      <td>0</td>\n",
       "      <td>0</td>\n",
       "    </tr>\n",
       "    <tr>\n",
       "      <th>2</th>\n",
       "      <td>Breast Invasive Ductal Carcinoma</td>\n",
       "      <td>5215</td>\n",
       "      <td>74.11</td>\n",
       "      <td>High</td>\n",
       "      <td>0</td>\n",
       "      <td>LumB</td>\n",
       "      <td>3</td>\n",
       "      <td>Positve</td>\n",
       "      <td>Positive</td>\n",
       "      <td>3.0</td>\n",
       "      <td>...</td>\n",
       "      <td>0</td>\n",
       "      <td>0</td>\n",
       "      <td>0</td>\n",
       "      <td>0</td>\n",
       "      <td>0</td>\n",
       "      <td>0</td>\n",
       "      <td>0</td>\n",
       "      <td>0</td>\n",
       "      <td>0</td>\n",
       "      <td>0</td>\n",
       "    </tr>\n",
       "    <tr>\n",
       "      <th>3</th>\n",
       "      <td>Breast Invasive Ductal Carcinoma</td>\n",
       "      <td>5412</td>\n",
       "      <td>51.87</td>\n",
       "      <td>High</td>\n",
       "      <td>0</td>\n",
       "      <td>LumA</td>\n",
       "      <td>3</td>\n",
       "      <td>Positve</td>\n",
       "      <td>Positive</td>\n",
       "      <td>2.0</td>\n",
       "      <td>...</td>\n",
       "      <td>0</td>\n",
       "      <td>0</td>\n",
       "      <td>0</td>\n",
       "      <td>0</td>\n",
       "      <td>0</td>\n",
       "      <td>0</td>\n",
       "      <td>0</td>\n",
       "      <td>0</td>\n",
       "      <td>0</td>\n",
       "      <td>0</td>\n",
       "    </tr>\n",
       "    <tr>\n",
       "      <th>4</th>\n",
       "      <td>Breast Invasive Ductal Carcinoma</td>\n",
       "      <td>465</td>\n",
       "      <td>87.18</td>\n",
       "      <td>Moderate</td>\n",
       "      <td>0</td>\n",
       "      <td>LumB</td>\n",
       "      <td>1</td>\n",
       "      <td>Positve</td>\n",
       "      <td>Positive</td>\n",
       "      <td>3.0</td>\n",
       "      <td>...</td>\n",
       "      <td>0</td>\n",
       "      <td>0</td>\n",
       "      <td>0</td>\n",
       "      <td>0</td>\n",
       "      <td>0</td>\n",
       "      <td>0</td>\n",
       "      <td>0</td>\n",
       "      <td>0</td>\n",
       "      <td>0</td>\n",
       "      <td>0</td>\n",
       "    </tr>\n",
       "  </tbody>\n",
       "</table>\n",
       "<p>5 rows × 688 columns</p>\n",
       "</div>"
      ],
      "text/plain": [
       "                        cancer_type  patient_id  age_at_diagnosis cellularity  \\\n",
       "0  Breast Invasive Ductal Carcinoma         474             54.29        High   \n",
       "1  Breast Invasive Ductal Carcinoma        7029             43.45    Moderate   \n",
       "2  Breast Invasive Ductal Carcinoma        5215             74.11        High   \n",
       "3  Breast Invasive Ductal Carcinoma        5412             51.87        High   \n",
       "4  Breast Invasive Ductal Carcinoma         465             87.18    Moderate   \n",
       "\n",
       "   chemotherapy pam50_+_claudin-low_subtype  cohort er_status_measured_by_ihc  \\\n",
       "0             1                        LumB       1                   Positve   \n",
       "1             0                        LumA       4                   Positve   \n",
       "2             0                        LumB       3                   Positve   \n",
       "3             0                        LumA       3                   Positve   \n",
       "4             0                        LumB       1                   Positve   \n",
       "\n",
       "  er_status  neoplasm_histologic_grade  ... mtap_mut ppp2cb_mut  smarcd1_mut  \\\n",
       "0  Positive                        3.0  ...        0          0            0   \n",
       "1  Positive                        1.0  ...        0          0            0   \n",
       "2  Positive                        3.0  ...        0          0            0   \n",
       "3  Positive                        2.0  ...        0          0            0   \n",
       "4  Positive                        3.0  ...        0          0            0   \n",
       "\n",
       "  nras_mut ndfip1_mut  hras_mut  prps2_mut  smarcb1_mut  stmn2_mut  siah1_mut  \n",
       "0        0          0         0          0            0          0          0  \n",
       "1        0          0         0          0            0          0          0  \n",
       "2        0          0         0          0            0          0          0  \n",
       "3        0          0         0          0            0          0          0  \n",
       "4        0          0         0          0            0          0          0  \n",
       "\n",
       "[5 rows x 688 columns]"
      ]
     },
     "execution_count": 22,
     "metadata": {},
     "output_type": "execute_result"
    }
   ],
   "source": [
    "data = pd.read_csv(\"data.csv\", encoding=\"utf-8\")\n",
    "data.head()"
   ]
  },
  {
   "cell_type": "markdown",
   "metadata": {
    "id": "mTToaZ9WWXWk"
   },
   "source": [
    "### Clean the data"
   ]
  },
  {
   "cell_type": "markdown",
   "metadata": {},
   "source": [
    "#### Remove missing and duplicate values from dataset"
   ]
  },
  {
   "cell_type": "code",
   "execution_count": 23,
   "metadata": {
    "id": "2KK0kzUJW6GL"
   },
   "outputs": [],
   "source": [
    "# Check and remove missing values from the dataset\n",
    "data.isna().sum()\n",
    "data.dropna(axis=0, inplace=True)\n",
    "data.reset_index(inplace=True)"
   ]
  },
  {
   "cell_type": "code",
   "execution_count": 24,
   "metadata": {
    "id": "cxzweFphXBE5"
   },
   "outputs": [],
   "source": [
    "# Check and remove duplicate values from the dataset\n",
    "data.duplicated().sum()\n",
    "data.drop_duplicates(inplace=True)"
   ]
  },
  {
   "cell_type": "markdown",
   "metadata": {
    "id": "IeOgdKiqWB8E"
   },
   "source": [
    "#### Split the data into train, validation, and test sets "
   ]
  },
  {
   "cell_type": "markdown",
   "metadata": {},
   "source": [
    "Given the dataset size (around 1500) we can go with either approach (spliting the data manualy or applying cross-validation)"
   ]
  },
  {
   "cell_type": "markdown",
   "metadata": {
    "id": "UBbiZa8nWIPE"
   },
   "source": [
    "Split the dataset into train (80%), validation (10%) and test (10%) sets"
   ]
  },
  {
   "cell_type": "code",
   "execution_count": 25,
   "metadata": {
    "id": "2amSQIinWRym"
   },
   "outputs": [],
   "source": [
    "y = data[\"cancer_type\"]\n",
    "x = data.drop(columns = \"cancer_type\")\n",
    "\n",
    "x_encoded = pd.get_dummies(x)\n",
    "\n",
    "label_encoder = LabelEncoder()\n",
    "y_encoded = label_encoder.fit_transform(y)\n",
    "\n",
    "x_train, y_train, x_val, y_val, x_test, y_test = train_val_test_split(x_encoded, y_encoded)"
   ]
  },
  {
   "cell_type": "markdown",
   "metadata": {},
   "source": [
    "## Part 2: Dimensionality Reduction - Deprecated for now (DON'T RUN THE CELLS IN THIS SECTION)"
   ]
  },
  {
   "cell_type": "code",
   "execution_count": 10,
   "metadata": {},
   "outputs": [
    {
     "ename": "NameError",
     "evalue": "name 'df' is not defined",
     "output_type": "error",
     "traceback": [
      "\u001b[1;31m---------------------------------------------------------------------------\u001b[0m",
      "\u001b[1;31mNameError\u001b[0m                                 Traceback (most recent call last)",
      "Cell \u001b[1;32mIn[10], line 4\u001b[0m\n\u001b[0;32m      1\u001b[0m \u001b[38;5;66;03m# Dimensionality Reduction \u001b[39;00m\n\u001b[0;32m      2\u001b[0m \u001b[38;5;66;03m# Normalize the data\u001b[39;00m\n\u001b[0;32m      3\u001b[0m \u001b[38;5;66;03m# Select columns with float or integer data types\u001b[39;00m\n\u001b[1;32m----> 4\u001b[0m numeric_columns \u001b[38;5;241m=\u001b[39m \u001b[43mdf\u001b[49m\u001b[38;5;241m.\u001b[39mselect_dtypes(include\u001b[38;5;241m=\u001b[39m[\u001b[38;5;124m'\u001b[39m\u001b[38;5;124mfloat64\u001b[39m\u001b[38;5;124m'\u001b[39m, \u001b[38;5;124m'\u001b[39m\u001b[38;5;124mint64\u001b[39m\u001b[38;5;124m'\u001b[39m])\n\u001b[0;32m      5\u001b[0m data_normalized \u001b[38;5;241m=\u001b[39m (numeric_columns \u001b[38;5;241m-\u001b[39m np\u001b[38;5;241m.\u001b[39mmean(numeric_columns, axis\u001b[38;5;241m=\u001b[39m\u001b[38;5;241m0\u001b[39m)) \u001b[38;5;241m/\u001b[39m np\u001b[38;5;241m.\u001b[39mstd(numeric_columns, axis\u001b[38;5;241m=\u001b[39m\u001b[38;5;241m0\u001b[39m)\n\u001b[0;32m      7\u001b[0m \u001b[38;5;66;03m# Perform PCA\u001b[39;00m\n",
      "\u001b[1;31mNameError\u001b[0m: name 'df' is not defined"
     ]
    }
   ],
   "source": [
    "# Dimensionality Reduction \n",
    "# Normalize the data\n",
    "# Select columns with float or integer data types\n",
    "df = pd.DataFrame(data)\n",
    "\n",
    "numeric_columns = df.select_dtypes(include=['float64', 'int64'])\n",
    "data_normalized = (numeric_columns - np.mean(numeric_columns, axis=0)) / np.std(numeric_columns, axis=0)\n",
    "\n",
    "# Perform PCA\n",
    "n_components = 10  # Number of components to keep\n",
    "pca = PCA(n_components=n_components)\n",
    "data_reduced = pca.fit_transform(data_normalized)\n",
    "data_reduced"
   ]
  },
  {
   "cell_type": "code",
   "execution_count": 11,
   "metadata": {},
   "outputs": [
    {
     "name": "stdout",
     "output_type": "stream",
     "text": [
      "     index                                cancer_type  patient_id  \\\n",
      "0        0           Breast Invasive Ductal Carcinoma         474   \n",
      "1        3           Breast Invasive Ductal Carcinoma        5412   \n",
      "2        4           Breast Invasive Ductal Carcinoma         465   \n",
      "3        5           Breast Invasive Ductal Carcinoma        5632   \n",
      "4        9           Breast Invasive Ductal Carcinoma         507   \n",
      "..     ...                                        ...         ...   \n",
      "869   1483           Breast Invasive Ductal Carcinoma        4140   \n",
      "870   1486           Breast Invasive Ductal Carcinoma         381   \n",
      "871   1487  Breast Mixed Ductal and Lobular Carcinoma        5424   \n",
      "872   1490           Breast Invasive Ductal Carcinoma        3361   \n",
      "873   1495           Breast Invasive Ductal Carcinoma         393   \n",
      "\n",
      "     age_at_diagnosis cellularity  chemotherapy pam50_+_claudin-low_subtype  \\\n",
      "0               54.29        High             1                        LumB   \n",
      "1               51.87        High             0                        LumA   \n",
      "2               87.18    Moderate             0                        LumB   \n",
      "3               78.55        High             0                        LumB   \n",
      "4               58.71    Moderate             0                        LumA   \n",
      "..                ...         ...           ...                         ...   \n",
      "869             71.17        High             0                        LumA   \n",
      "870             33.65        High             1                        Her2   \n",
      "871             66.42    Moderate             0                        LumA   \n",
      "872             57.31        High             0                        LumB   \n",
      "873             68.74         Low             1                 claudin-low   \n",
      "\n",
      "    er_status_measured_by_ihc er_status  neoplasm_histologic_grade  ...  \\\n",
      "0                     Positve  Positive                        3.0  ...   \n",
      "1                     Positve  Positive                        2.0  ...   \n",
      "2                     Positve  Positive                        3.0  ...   \n",
      "3                     Positve  Positive                        2.0  ...   \n",
      "4                     Positve  Positive                        3.0  ...   \n",
      "..                        ...       ...                        ...  ...   \n",
      "869                   Positve  Positive                        3.0  ...   \n",
      "870                   Positve  Positive                        3.0  ...   \n",
      "871                   Positve  Positive                        2.0  ...   \n",
      "872                   Positve  Positive                        3.0  ...   \n",
      "873                   Positve  Positive                        3.0  ...   \n",
      "\n",
      "    mtap_mut ppp2cb_mut  smarcd1_mut nras_mut ndfip1_mut  hras_mut  prps2_mut  \\\n",
      "0          0          0            0        0          0         0          0   \n",
      "1          0          0            0        0          0         0          0   \n",
      "2          0          0            0        0          0         0          0   \n",
      "3          0          0            0        0          0         0          0   \n",
      "4          0          0            0        0          0         0          0   \n",
      "..       ...        ...          ...      ...        ...       ...        ...   \n",
      "869        0          0            0        0          0         0          0   \n",
      "870        0          0            0        0          0         0          0   \n",
      "871        0          0            0        0          0         0          0   \n",
      "872        0          0            0        0          0         0          0   \n",
      "873        0          0            0        0          0         0          0   \n",
      "\n",
      "     smarcb1_mut  stmn2_mut siah1_mut  \n",
      "0              0          0         0  \n",
      "1              0          0         0  \n",
      "2              0          0         0  \n",
      "3              0          0         0  \n",
      "4              0          0         0  \n",
      "..           ...        ...       ...  \n",
      "869            0          0         0  \n",
      "870            0          0         0  \n",
      "871            0          0         0  \n",
      "872            0          0         0  \n",
      "873            0          0         0  \n",
      "\n",
      "[874 rows x 677 columns]\n"
     ]
    }
   ],
   "source": [
    "# Assuming df is your DataFrame\n",
    "# Example DataFrame\n",
    "df = pd.DataFrame(data)\n",
    "\n",
    "# Select only numeric columns for correlation calculation\n",
    "numeric_columns = df.select_dtypes(include=['float64', 'int64'])\n",
    "\n",
    "# Calculate correlation matrix\n",
    "corr_matrix = numeric_columns.corr().abs()\n",
    "\n",
    "# Set the threshold for correlation\n",
    "threshold = 0.7  # You can adjust this threshold as needed\n",
    "\n",
    "# Find features with high correlation\n",
    "upper = corr_matrix.where(np.triu(np.ones(corr_matrix.shape), k=1).astype(bool))\n",
    "to_drop = [column for column in upper.columns if any(upper[column] > threshold)]\n",
    "\n",
    "# Drop highly correlated features\n",
    "df_reduced = df.drop(to_drop, axis=1)\n",
    "\n",
    "# Now df_reduced contains the dataset with reduced features\n",
    "# You can use df_reduced for model training\n",
    "print(df_reduced)\n"
   ]
  },
  {
   "cell_type": "markdown",
   "metadata": {},
   "source": [
    "## Part 3: Models"
   ]
  },
  {
   "cell_type": "markdown",
   "metadata": {},
   "source": [
    "### Logistic Regression"
   ]
  },
  {
   "cell_type": "code",
   "execution_count": 29,
   "metadata": {},
   "outputs": [
    {
     "name": "stdout",
     "output_type": "stream",
     "text": [
      "Accuracy: 0.735632183908046\n"
     ]
    }
   ],
   "source": [
    "# Initialize and train Logistic Regression model\n",
    "log_reg_model = LogisticRegression(solver='liblinear', max_iter=10000000)  # Initiate Logistic Regression model\n",
    "log_reg_model.fit(x_train, y_train)  # Fit the data \n",
    "\n",
    "# Predict on validation data\n",
    "log_reg_predictions = log_reg_model.predict(x_val)\n",
    "\n",
    "# Calculate accuracy\n",
    "accuracy = accuracy_score(y_val, log_reg_predictions)\n",
    "print(\"Accuracy:\", accuracy)\n",
    "\n",
    "saveModel('log_reg_model.pkl', log_reg_model)"
   ]
  },
  {
   "cell_type": "code",
   "execution_count": 15,
   "metadata": {},
   "outputs": [
    {
     "data": {
      "image/png": "[encoded data removed]",
      "text/plain": [
       "<Figure size 1000x600 with 1 Axes>"
      ]
     },
     "metadata": {},
     "output_type": "display_data"
    }
   ],
   "source": [
    "# Plot learning curve \n",
    "plot_learning_curves(log_reg_model, x_train, y_train, x_val, y_val)"
   ]
  },
  {
   "cell_type": "markdown",
   "metadata": {},
   "source": [
    "#### Hyperparameter Tuning "
   ]
  },
  {
   "cell_type": "code",
   "execution_count": 16,
   "metadata": {},
   "outputs": [
    {
     "data": {
      "text/plain": [
       "{'C': 1.0,\n",
       " 'class_weight': None,\n",
       " 'dual': False,\n",
       " 'fit_intercept': True,\n",
       " 'intercept_scaling': 1,\n",
       " 'l1_ratio': None,\n",
       " 'max_iter': 10000000,\n",
       " 'multi_class': 'auto',\n",
       " 'n_jobs': None,\n",
       " 'penalty': 'l2',\n",
       " 'random_state': None,\n",
       " 'solver': 'liblinear',\n",
       " 'tol': 0.0001,\n",
       " 'verbose': 0,\n",
       " 'warm_start': False}"
      ]
     },
     "execution_count": 16,
     "metadata": {},
     "output_type": "execute_result"
    }
   ],
   "source": [
    "log_reg_model.get_params()"
   ]
  },
  {
   "cell_type": "code",
   "execution_count": null,
   "metadata": {},
   "outputs": [],
   "source": [
    "# Define the hyperparameters to tune\n",
    "param_grid = {\n",
    "    'penalty': ['l1', 'l2'],\n",
    "    'C': [0.01, 0.1, 1, 10],\n",
    "    'solver': ['liblinear', 'saga']\n",
    "}\n",
    "\n",
    "# Create the grid search object\n",
    "grid_search = GridSearchCV(estimator=log_reg_model, param_grid=param_grid, cv=None)\n",
    "\n",
    "# Perform grid search\n",
    "grid_search.fit(x_train, y_train)\n",
    "\n",
    "# Get the best hyperparameters\n",
    "best_params = grid_search.best_params_\n",
    "print(\"Best Hyperparameters:\", best_params)\n",
    "\n",
    "# Get the best cross-validation score\n",
    "best_score = grid_search.best_score_\n",
    "print(\"Best Cross-Validation Score:\", best_score)\n",
    "\n",
    "# Train the model with the best hyperparameters on the entire training dataset\n",
    "best_model = grid_search.best_estimator_\n",
    "\n",
    "val_score = best_model.score(x_val, y_val)\n",
    "print(\"Validation Set Accuracy:\", val_score)\n",
    "\n",
    "saveModel('log_reg_best.pkl', best_model)"
   ]
  },
  {
   "cell_type": "markdown",
   "metadata": {},
   "source": [
    "### Random Forest"
   ]
  },
  {
   "cell_type": "code",
   "execution_count": 27,
   "metadata": {},
   "outputs": [
    {
     "name": "stdout",
     "output_type": "stream",
     "text": [
      "Accuracy (Random Forest): 0.7931034482758621\n"
     ]
    }
   ],
   "source": [
    "# initialize and train the Random Forest model\n",
    "'''enter your code here'''\n",
    "rf_clf = RandomForestClassifier()\n",
    "rf_clf.fit(x_train, y_train)\n",
    "\n",
    "# predict labels for the validation set\n",
    "'''enter your code here'''\n",
    "rf_clf_predictions = rf_clf.predict(x_val)\n",
    "\n",
    "# report the validation accuracy of the trained model\n",
    "'''enter your code here'''\n",
    "accuracy = accuracy_score(rf_clf_predictions, y_val)\n",
    "print(\"Accuracy (Random Forest):\", accuracy)\n",
    "\n",
    "saveModel('rf_clf.pkl', rf_clf)"
   ]
  },
  {
   "cell_type": "code",
   "execution_count": null,
   "metadata": {},
   "outputs": [],
   "source": [
    "plot_learning_curves(rf_clf, x_train, y_train, x_val, y_val)"
   ]
  },
  {
   "cell_type": "markdown",
   "metadata": {},
   "source": [
    "#### Hyperparameter Tuning "
   ]
  },
  {
   "cell_type": "code",
   "execution_count": 34,
   "metadata": {},
   "outputs": [
    {
     "data": {
      "text/plain": [
       "{'bootstrap': True,\n",
       " 'ccp_alpha': 0.0,\n",
       " 'class_weight': None,\n",
       " 'criterion': 'gini',\n",
       " 'max_depth': None,\n",
       " 'max_features': 'sqrt',\n",
       " 'max_leaf_nodes': None,\n",
       " 'max_samples': None,\n",
       " 'min_impurity_decrease': 0.0,\n",
       " 'min_samples_leaf': 1,\n",
       " 'min_samples_split': 2,\n",
       " 'min_weight_fraction_leaf': 0.0,\n",
       " 'monotonic_cst': None,\n",
       " 'n_estimators': 100,\n",
       " 'n_jobs': None,\n",
       " 'oob_score': False,\n",
       " 'random_state': None,\n",
       " 'verbose': 0,\n",
       " 'warm_start': False}"
      ]
     },
     "execution_count": 34,
     "metadata": {},
     "output_type": "execute_result"
    }
   ],
   "source": [
    "rf_clf.get_params()"
   ]
  },
  {
   "cell_type": "code",
   "execution_count": null,
   "metadata": {},
   "outputs": [],
   "source": [
    "# Define the parameter grid to search\n",
    "param_grid = {\n",
    "    'n_estimators': [50, 100, 200],\n",
    "    'criterion': ['gini', 'entropy'],\n",
    "    'max_depth': [5, 10, 15],\n",
    "    'min_samples_split': [2, 5, 10],\n",
    "    'min_samples_leaf': [1, 2, 4],\n",
    "    'max_features': ['sqrt', 'log2']\n",
    "}\n",
    "\n",
    "grid_search = GridSearchCV(rf_clf, param_grid=param_grid, cv=5, scoring='accuracy')\n",
    "\n",
    "# Fit the model to the training data\n",
    "grid_search.fit(x_train, y_train)\n",
    "\n",
    "# Get the best hyperparameters\n",
    "best_params = grid_search.best_params_\n",
    "print(\"Best Hyperparameters:\", best_params)\n",
    "\n",
    "# Get the best cross-validation score\n",
    "best_score = grid_search.best_score_\n",
    "print(\"Best Cross-Validation Score:\", best_score)\n",
    "\n",
    "# Train the model with the best hyperparameters on the entire training dataset\n",
    "best_model = grid_search.best_estimator_\n",
    "val_pred = best_model.predict(x_val)\n",
    "\n",
    "# Evaluate accuracy on the validation set\n",
    "val_score = best_model.score(val_pred, y_val)\n",
    "print(\"Validation Set Accuracy:\", val_score)\n",
    "\n",
    "results.append((best_model, val_score))\n",
    "\n",
    "saveModel('rf_clf_best.pkl', best_model)"
   ]
  },
  {
   "cell_type": "markdown",
   "metadata": {},
   "source": [
    "### SVM"
   ]
  },
  {
   "cell_type": "code",
   "execution_count": 28,
   "metadata": {},
   "outputs": [
    {
     "name": "stdout",
     "output_type": "stream",
     "text": [
      "Number of support vectors for each class: [272  50  10  95]\n",
      "Accuracy: 0.7931034482758621\n"
     ]
    }
   ],
   "source": [
    "# initialize and train the Support Vector Machines model\n",
    "'''enter your code here'''\n",
    "svm_clf = SVC()\n",
    "svm_clf.fit(x_train, y_train)\n",
    "\n",
    "# report the number of support vectors\n",
    "'''enter your code here'''\n",
    "num_support_vectors = svm_clf.n_support_\n",
    "print(\"Number of support vectors for each class:\", num_support_vectors)\n",
    "\n",
    "# predict labels for the validation set\n",
    "'''enter your code here'''\n",
    "val_pred = svm_clf.predict(x_val)\n",
    "\n",
    "# report the validation accuracy of the trained model\n",
    "'''enter your code here'''\n",
    "accuracy = accuracy_score(val_pred, y_val)\n",
    "print(\"Accuracy:\", accuracy)\n",
    "\n",
    "saveModel('svm_clf.pkl', svm_clf)"
   ]
  },
  {
   "cell_type": "code",
   "execution_count": null,
   "metadata": {},
   "outputs": [],
   "source": [
    "plot_learning_curves(svm_clf, x_train, y_train, x_val, y_val)"
   ]
  },
  {
   "cell_type": "markdown",
   "metadata": {},
   "source": [
    "#### Hyperparameter Tuning "
   ]
  },
  {
   "cell_type": "code",
   "execution_count": 35,
   "metadata": {},
   "outputs": [
    {
     "data": {
      "text/plain": [
       "{'C': 1.0,\n",
       " 'break_ties': False,\n",
       " 'cache_size': 200,\n",
       " 'class_weight': None,\n",
       " 'coef0': 0.0,\n",
       " 'decision_function_shape': 'ovr',\n",
       " 'degree': 3,\n",
       " 'gamma': 'scale',\n",
       " 'kernel': 'rbf',\n",
       " 'max_iter': -1,\n",
       " 'probability': False,\n",
       " 'random_state': None,\n",
       " 'shrinking': True,\n",
       " 'tol': 0.001,\n",
       " 'verbose': False}"
      ]
     },
     "execution_count": 35,
     "metadata": {},
     "output_type": "execute_result"
    }
   ],
   "source": [
    "svm_clf.get_params()"
   ]
  },
  {
   "cell_type": "code",
   "execution_count": null,
   "metadata": {},
   "outputs": [],
   "source": [
    "# Define the parameter grid to search\n",
    "param_grid = {\n",
    "    'C': [0.1, 1, 10, 100],\n",
    "    'kernel': ['linear', 'rbf', 'poly'],\n",
    "    'degree': [2, 3, 4],\n",
    "    'gamma': ['scale', 'auto']\n",
    "}\n",
    "\n",
    "# Instantiate GridSearchCV\n",
    "grid_search = GridSearchCV(estimator=svm_clf, param_grid=param_grid, cv=5, scoring='accuracy')\n",
    "\n",
    "# Fit the model to the training data\n",
    "grid_search.fit(x_train, y_train)\n",
    "\n",
    "# Print the best parameters found\n",
    "print(\"Best parameters:\", grid_search.best_params_)\n",
    "\n",
    "# Get the best cross-validation score\n",
    "best_score = grid_search.best_score_\n",
    "print(\"Best Cross-Validation Score:\", best_score)\n",
    "\n",
    "# Predict on the validation set with the best model\n",
    "best_model = grid_search.best_estimator_\n",
    "val_pred = best_model.predict(x_val)\n",
    "\n",
    "# Evaluate accuracy on the validation set\n",
    "val_score = best_model.score(val_pred, y_val)\n",
    "print(\"Validation Set Accuracy:\", val_score)\n",
    "\n",
    "results.append((best_model, val_score))\n",
    "\n",
    "saveModel('svm_clf_best.pkl', best_model)"
   ]
  },
  {
   "cell_type": "markdown",
   "metadata": {},
   "source": [
    "### Gradient Boosting "
   ]
  },
  {
   "cell_type": "code",
   "execution_count": 30,
   "metadata": {},
   "outputs": [
    {
     "name": "stdout",
     "output_type": "stream",
     "text": [
      "Accuracy on validation set: 0.7931034482758621\n"
     ]
    }
   ],
   "source": [
    "'''enter your code here'''\n",
    "gb_clf = GradientBoostingClassifier()\n",
    "gb_clf.fit(x_train, y_train)\n",
    "\n",
    "# predict labels for the validation set\n",
    "'''enter your code here'''\n",
    "val_pred = gb_clf.predict(x_val)\n",
    "\n",
    "# report the validation accuracy of the trained model\n",
    "'''enter your code here'''\n",
    "accuracy = accuracy_score(y_val, val_pred)\n",
    "print(\"Accuracy on validation set:\", accuracy)\n",
    "\n",
    "saveModel('gb_clf.pkl', gb_clf)"
   ]
  },
  {
   "cell_type": "code",
   "execution_count": null,
   "metadata": {},
   "outputs": [],
   "source": [
    "plot_learning_curves(gb_clf, x_train, y_train, x_val, y_val)"
   ]
  },
  {
   "cell_type": "markdown",
   "metadata": {},
   "source": [
    "#### Hyperparameter Tuning "
   ]
  },
  {
   "cell_type": "code",
   "execution_count": null,
   "metadata": {},
   "outputs": [],
   "source": [
    "gb_clf.get_params()"
   ]
  },
  {
   "cell_type": "code",
   "execution_count": null,
   "metadata": {},
   "outputs": [],
   "source": [
    "param_grid = {\n",
    "    'criterion': ['friedman_mse', 'squared_error'],\n",
    "    'learning_rate': [0.01, 0.1, 0.2],\n",
    "    'n_estimators': [50, 100, 200],\n",
    "    'max_depth': [3, 5, 8]\n",
    "}\n",
    "\n",
    "# Create the grid search object\n",
    "grid_search = GridSearchCV(estimator=gb_clf, param_grid=param_grid, cv=None)\n",
    "\n",
    "# Perform grid search\n",
    "grid_search.fit(x_train, y_train)\n",
    "\n",
    "# Get the best hyperparameters\n",
    "best_params = grid_search.best_params_\n",
    "print(\"Best Hyperparameters:\", best_params)\n",
    "\n",
    "# Get the best cross-validation score\n",
    "best_score = grid_search.best_score_\n",
    "print(\"Best Cross-Validation Score:\", best_score)\n",
    "\n",
    "# Train the model with the best hyperparameters on the entire training dataset\n",
    "best_model = grid_search.best_estimator_\n",
    "\n",
    "val_score = best_model.score(x_val, y_val)\n",
    "print(\"Validation Set Accuracy:\", val_score)\n",
    "\n",
    "results.append((best_model, val_score))\n",
    "\n",
    "saveModel('gb_clf_best.pkl', best_model)"
   ]
  },
  {
   "cell_type": "markdown",
   "metadata": {},
   "source": [
    "### Neural Network"
   ]
  },
  {
   "cell_type": "code",
   "execution_count": null,
   "metadata": {},
   "outputs": [],
   "source": [
    "def create_dense_model(input_shape):\n",
    "    model = Sequential([\n",
    "        Flatten(input_shape=input_shape),  # Flatten the input images\n",
    "        Dense(128, activation='relu'),  # First hidden layer with 128 units and ReLU activation\n",
    "        Dense(64, activation='relu'),   # Second hidden layer with 64 units and ReLU activation\n",
    "        Dense(1, activation='sigmoid')  # Output layer with 1 unit and sigmoid activation for binary classification\n",
    "    ])\n",
    "    model.compile(optimizer='adam',\n",
    "                  loss='binary_crossentropy',\n",
    "                  metrics=['accuracy'])\n",
    "    return model\n",
    "\n",
    "# function to extract the dense model from the pipeline\n",
    "def extract_model(pipeline):\n",
    "    return pipeline.steps[-1][1]\n",
    "\n",
    "# Create a pipeline for the dense model\n",
    "dense_pipeline = Pipeline([\n",
    "    ('flatten', FunctionTransformer(lambda x: x.reshape((x.shape[0], -1)))),\n",
    "    ('dense', KerasClassifier(build_fn=create_dense_model, input_shape=(10000,), epochs=10, batch_size=32))\n",
    "])\n",
    "\n",
    "# train the network\n",
    "'''enter your code here'''\n",
    "nn_model = extract_model(dense_pipeline)\n",
    "nn_model.fit(x_train, y_train)\n",
    "\n",
    "# predict labels for the validation set\n",
    "'''enter your code here'''\n",
    "val_pred = nn_model.predict(x_val)\n",
    "\n",
    "# report the validation accuracy of the trained model\n",
    "'''enter your code here'''\n",
    "accuracy = accuracy_score(y_val, val_pred)\n",
    "print(\"Validation accuracy:\", accuracy)\n",
    "\n",
    "saveModel('nn_model.pkl', nn_model)"
   ]
  },
  {
   "cell_type": "code",
   "execution_count": null,
   "metadata": {},
   "outputs": [],
   "source": [
    "plot_learning_curves(nn_model, x_train, y_train, x_val, y_val)"
   ]
  },
  {
   "cell_type": "markdown",
   "metadata": {},
   "source": [
    "#### Hyperparameter Tuning"
   ]
  },
  {
   "cell_type": "code",
   "execution_count": null,
   "metadata": {},
   "outputs": [],
   "source": [
    "nn_model.get_params()"
   ]
  },
  {
   "cell_type": "code",
   "execution_count": null,
   "metadata": {},
   "outputs": [],
   "source": [
    "param_dist = {\n",
    "    # 'hidden_layers': [1, 3, 5],  # Number of hidden layers\n",
    "    # 'units': [50, 100, 150, 200],       # Number of units in hidden layers\n",
    "    'optimizer': ['adam', 'sgd', 'rmsprop'],\n",
    "    # 'learning_rate': [0.01, 0.1, 0.2],\n",
    "    'batch_size': [32, 64, 128]\n",
    "}\n",
    "\n",
    "# print(nn_model.get_params().keys())\n",
    "\n",
    "# Initialize RandomizedSearchCV\n",
    "random_search = RandomizedSearchCV(nn_model, param_dist, n_iter=50, cv=5)\n",
    "\n",
    "# Fit RandomizedSearchCV\n",
    "random_search.fit(x_train, y_train)\n",
    "\n",
    "# Print the best parameters found\n",
    "print(\"Best Parameters:\", random_search.best_params_)\n",
    "\n",
    "# Get the best model\n",
    "best_model = random_search.best_estimator_\n",
    "val_pred = best_model.predict(x_val)\n",
    "\n",
    "# Evaluate accuracy on the validation set\n",
    "val_score = best_model.score(val_pred, y_val)\n",
    "print(\"Validation Set Accuracy:\", val_score)\n",
    "\n",
    "results.append((best_model, val_score))\n",
    "\n",
    "saveModel('nn_model_best.pkl', best_model)"
   ]
  },
  {
   "cell_type": "markdown",
   "metadata": {},
   "source": [
    "## Part 3: Feature Selection (Check if it should be done before or after model training)\n"
   ]
  },
  {
   "cell_type": "code",
   "execution_count": null,
   "metadata": {},
   "outputs": [],
   "source": []
  },
  {
   "cell_type": "markdown",
   "metadata": {},
   "source": [
    "## Part 4: Choosing the best model "
   ]
  },
  {
   "cell_type": "code",
   "execution_count": null,
   "metadata": {},
   "outputs": [],
   "source": [
    "print(results)\n",
    "general_best = max(results, key=lambda x: x[1])\n",
    "general_best_model = general_best[0]\n",
    "print(general_best_model)\n",
    "\n",
    "test_pred = general_best_model.predict(x_test)\n",
    "\n",
    "accuracy = accuracy_score(y_test, test_pred)\n",
    "print(\"Test Accuracy:\", accuracy)"
   ]
  },
  {
   "cell_type": "markdown",
   "metadata": {},
   "source": [
    "## Part 5: Testing the best model on the test data"
   ]
  },
  {
   "cell_type": "code",
   "execution_count": null,
   "metadata": {},
   "outputs": [],
   "source": []
  }
 ],
 "metadata": {
  "colab": {
   "provenance": []
  },
  "kernelspec": {
   "display_name": "Python 3 (ipykernel)",
   "language": "python",
   "name": "python3"
  },
  "language_info": {
   "codemirror_mode": {
    "name": "ipython",
    "version": 3
   },
   "file_extension": ".py",
   "mimetype": "text/x-python",
   "name": "python",
   "nbconvert_exporter": "python",
   "pygments_lexer": "ipython3",
   "version": "3.12.0"
  }
 },
 "nbformat": 4,
 "nbformat_minor": 4
}
